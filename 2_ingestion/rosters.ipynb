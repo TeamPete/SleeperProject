{
 "cells": [
  {
   "cell_type": "code",
   "execution_count": 0,
   "metadata": {
    "application/vnd.databricks.v1+cell": {
     "cellMetadata": {
      "byteLimit": 2048000,
      "rowLimit": 10000
     },
     "inputWidgets": {},
     "nuid": "e8c9297e-72c9-4464-b409-5932a7c56ef7",
     "showTitle": false,
     "title": ""
    }
   },
   "outputs": [],
   "source": [
    "%run \"../set-up/global_variables\""
   ]
  },
  {
   "cell_type": "code",
   "execution_count": 0,
   "metadata": {
    "application/vnd.databricks.v1+cell": {
     "cellMetadata": {
      "byteLimit": 2048000,
      "rowLimit": 10000
     },
     "inputWidgets": {},
     "nuid": "4c1774c1-c4b1-4488-946b-b0c8956465ff",
     "showTitle": false,
     "title": ""
    }
   },
   "outputs": [],
   "source": [
    "from pyspark.sql.types import StructType, StructField, StringType, IntegerType, DecimalType, ArrayType, MapType, DoubleType\n",
    "from pyspark.sql.functions import col, explode, current_timestamp, lit, concat\n",
    "import json"
   ]
  },
  {
   "cell_type": "code",
   "execution_count": 0,
   "metadata": {
    "application/vnd.databricks.v1+cell": {
     "cellMetadata": {
      "byteLimit": 2048000,
      "rowLimit": 10000
     },
     "inputWidgets": {},
     "nuid": "ce3e8eaf-ae5c-4f38-acae-f7ef76a9a041",
     "showTitle": false,
     "title": ""
    }
   },
   "outputs": [],
   "source": [
    "rosters_raw_as_string = dbutils.fs.head('/mnt/sleeperprojectdl/raw/2022/rosters.json')\n",
    "rosters_raw_as_list = json.loads(rosters_raw_as_string)\n",
    "\n",
    "settings_schema = StructType(\n",
    "    [StructField(setting, IntegerType(), True) for setting in rosters_raw_as_list[0]['settings'].keys()]\n",
    ")\n",
    "\n",
    "rosters_schema = StructType([\n",
    "    StructField('taxi', ArrayType(StringType()), True),\n",
    "    StructField('starters', ArrayType(StringType()), True),\n",
    "    StructField('settings', settings_schema, True),\n",
    "    StructField('roster_id', IntegerType(), True),\n",
    "    StructField('reserve', ArrayType(StringType()), True),\n",
    "    StructField('players', ArrayType(StringType()), True),\n",
    "    StructField('player_map', StringType(), True),\n",
    "    StructField('owner_id', DecimalType(38,0), True),\n",
    "    StructField('metadata', \n",
    "        StructType([\n",
    "            StructField('streak', StringType(), True),\n",
    "            StructField('record', StringType(), True)]),\n",
    "        True),\n",
    "    StructField('league_id', DecimalType(38,0), True),\n",
    "    StructField('keepers', StringType(), True),\n",
    "    StructField('co_owners', StringType(), True),\n",
    "])"
   ]
  },
  {
   "cell_type": "code",
   "execution_count": 0,
   "metadata": {
    "application/vnd.databricks.v1+cell": {
     "cellMetadata": {
      "byteLimit": 2048000,
      "rowLimit": 10000
     },
     "inputWidgets": {},
     "nuid": "b9ea0b9d-10f6-4b25-bc86-263b9c782bde",
     "showTitle": false,
     "title": ""
    }
   },
   "outputs": [],
   "source": [
    "# Iterate through all the league_info files\n",
    "for season in ALL_SEASONS.keys():\n",
    "    file_path = f\"/mnt/sleeperprojectdl/raw/{season}/rosters.json\"\n",
    "\n",
    "    # Check if file path exists\n",
    "    if dbutils.fs.ls(file_path):\n",
    "        rosters_df = spark.read.json(file_path, schema=rosters_schema, multiLine=True)\n",
    "\n",
    "        # rosters_final_df = rosters_df.select(\n",
    "        #         col('owner_id'),\n",
    "        #         col('roster_id'),\n",
    "        #         explode(col('players')).alias('player_id')\n",
    "        #     ) \\\n",
    "        #     .withColumn('player_id', col('player_id').cast(IntegerType())) \\\n",
    "        #     .withColumn('ingestion_date', current_timestamp())\n",
    "\n",
    "        # rosters_final_df.write.mode('overwrite').parquet(f\"/mnt/sleeperprojectdl/processed/{season}/rosters\")\n",
    "\n",
    "        standings_df = rosters_df.select(\n",
    "                col('owner_id'),\n",
    "                col('roster_id'),\n",
    "                col('settings.wins'),\n",
    "                col('settings.losses'),\n",
    "                concat(col('settings.fpts'), lit('.'), col('settings.fpts_decimal')).alias('points_for'),\n",
    "                concat(col('settings.fpts_against'), lit('.'), col('settings.fpts_against_decimal')).alias('points_against')\n",
    "            ) \\\n",
    "            .withColumn('season', lit(season)) \\\n",
    "            .withColumn('ingestion_date', current_timestamp())\n",
    "        \n",
    "        standings_final_df = standings_df.withColumn('points_for', col('points_for').cast('double')) \\\n",
    "            .withColumn('points_against', col('points_against').cast('double'))\n",
    "        \n",
    "        standings_final_df.write.mode('append').parquet(f\"/mnt/sleeperprojectdl/processed/standings\")\n",
    "    else:\n",
    "        print(f\"File not found: {file_path}\")"
   ]
  },
  {
   "cell_type": "code",
   "execution_count": 0,
   "metadata": {
    "application/vnd.databricks.v1+cell": {
     "cellMetadata": {
      "byteLimit": 2048000,
      "rowLimit": 10000
     },
     "inputWidgets": {},
     "nuid": "28674567-22e6-41c8-9c0d-e3d26c4499a4",
     "showTitle": false,
     "title": ""
    }
   },
   "outputs": [
    {
     "output_type": "display_data",
     "data": {
      "text/html": [
       "<style scoped>\n",
       "  .table-result-container {\n",
       "    max-height: 300px;\n",
       "    overflow: auto;\n",
       "  }\n",
       "  table, th, td {\n",
       "    border: 1px solid black;\n",
       "    border-collapse: collapse;\n",
       "  }\n",
       "  th, td {\n",
       "    padding: 5px;\n",
       "  }\n",
       "  th {\n",
       "    text-align: left;\n",
       "  }\n",
       "</style><div class='table-result-container'><table class='table-result'><thead style='background-color: white'><tr><th>owner_id</th><th>roster_id</th><th>wins</th><th>losses</th><th>points_for</th><th>points_against</th><th>season</th><th>ingestion_date</th></tr></thead><tbody><tr><td>808516037942288384</td><td>1</td><td>7</td><td>7</td><td>1790.18</td><td>1707.88</td><td>2022</td><td>2024-07-17T02:29:10.405Z</td></tr><tr><td>450908656402165760</td><td>2</td><td>9</td><td>5</td><td>1806.42</td><td>1720.25</td><td>2022</td><td>2024-07-17T02:29:10.405Z</td></tr><tr><td>833592897646501888</td><td>3</td><td>4</td><td>10</td><td>1586.15</td><td>1738.57</td><td>2022</td><td>2024-07-17T02:29:10.405Z</td></tr><tr><td>833593227880824832</td><td>4</td><td>7</td><td>7</td><td>1608.18</td><td>1659.26</td><td>2022</td><td>2024-07-17T02:29:10.405Z</td></tr><tr><td>833594957678886912</td><td>5</td><td>7</td><td>7</td><td>1546.27</td><td>1706.72</td><td>2022</td><td>2024-07-17T02:29:10.405Z</td></tr><tr><td>833595239125094400</td><td>6</td><td>5</td><td>9</td><td>1667.37</td><td>1734.19</td><td>2022</td><td>2024-07-17T02:29:10.405Z</td></tr><tr><td>833595795143012352</td><td>7</td><td>6</td><td>8</td><td>1801.26</td><td>1721.71</td><td>2022</td><td>2024-07-17T02:29:10.405Z</td></tr><tr><td>833614474954006528</td><td>8</td><td>12</td><td>2</td><td>2105.84</td><td>1688.91</td><td>2022</td><td>2024-07-17T02:29:10.405Z</td></tr><tr><td>839024284771942400</td><td>9</td><td>5</td><td>9</td><td>1449.48</td><td>1693.78</td><td>2022</td><td>2024-07-17T02:29:10.405Z</td></tr><tr><td>515068627679768576</td><td>10</td><td>8</td><td>6</td><td>1683.91</td><td>1673.79</td><td>2022</td><td>2024-07-17T02:29:10.405Z</td></tr><tr><td>808516037942288384</td><td>1</td><td>8</td><td>6</td><td>1768.4</td><td>1640.74</td><td>2023</td><td>2024-07-17T02:29:09.542Z</td></tr><tr><td>450908656402165760</td><td>2</td><td>10</td><td>4</td><td>1939.8</td><td>1711.12</td><td>2023</td><td>2024-07-17T02:29:09.542Z</td></tr><tr><td>833592897646501888</td><td>3</td><td>4</td><td>10</td><td>1555.8</td><td>1812.32</td><td>2023</td><td>2024-07-17T02:29:09.542Z</td></tr><tr><td>833593227880824832</td><td>4</td><td>6</td><td>8</td><td>1560.13</td><td>1691.44</td><td>2023</td><td>2024-07-17T02:29:09.542Z</td></tr><tr><td>833594957678886912</td><td>5</td><td>4</td><td>10</td><td>1368.84</td><td>1609.33</td><td>2023</td><td>2024-07-17T02:29:09.542Z</td></tr><tr><td>833595239125094400</td><td>6</td><td>10</td><td>4</td><td>1688.46</td><td>1565.25</td><td>2023</td><td>2024-07-17T02:29:09.542Z</td></tr><tr><td>833595795143012352</td><td>7</td><td>9</td><td>5</td><td>1883.38</td><td>1744.49</td><td>2023</td><td>2024-07-17T02:29:09.542Z</td></tr><tr><td>833614474954006528</td><td>8</td><td>10</td><td>4</td><td>2006.47</td><td>1581.81</td><td>2023</td><td>2024-07-17T02:29:09.542Z</td></tr><tr><td>839024284771942400</td><td>9</td><td>8</td><td>6</td><td>1844.27</td><td>1625.6</td><td>2023</td><td>2024-07-17T02:29:09.542Z</td></tr><tr><td>1020201111485001728</td><td>10</td><td>1</td><td>13</td><td>1157.59</td><td>1790.86</td><td>2023</td><td>2024-07-17T02:29:09.542Z</td></tr><tr><td>808516037942288384</td><td>1</td><td>0</td><td>0</td><td>null</td><td>null</td><td>2024</td><td>2024-07-17T02:29:08.67Z</td></tr><tr><td>450908656402165760</td><td>2</td><td>0</td><td>0</td><td>null</td><td>null</td><td>2024</td><td>2024-07-17T02:29:08.67Z</td></tr><tr><td>833592897646501888</td><td>3</td><td>0</td><td>0</td><td>null</td><td>null</td><td>2024</td><td>2024-07-17T02:29:08.67Z</td></tr><tr><td>833593227880824832</td><td>4</td><td>0</td><td>0</td><td>null</td><td>null</td><td>2024</td><td>2024-07-17T02:29:08.67Z</td></tr><tr><td>833594957678886912</td><td>5</td><td>0</td><td>0</td><td>null</td><td>null</td><td>2024</td><td>2024-07-17T02:29:08.67Z</td></tr><tr><td>833595239125094400</td><td>6</td><td>0</td><td>0</td><td>null</td><td>null</td><td>2024</td><td>2024-07-17T02:29:08.67Z</td></tr><tr><td>833595795143012352</td><td>7</td><td>0</td><td>0</td><td>null</td><td>null</td><td>2024</td><td>2024-07-17T02:29:08.67Z</td></tr><tr><td>833614474954006528</td><td>8</td><td>0</td><td>0</td><td>null</td><td>null</td><td>2024</td><td>2024-07-17T02:29:08.67Z</td></tr><tr><td>839024284771942400</td><td>9</td><td>0</td><td>0</td><td>null</td><td>null</td><td>2024</td><td>2024-07-17T02:29:08.67Z</td></tr><tr><td>1020201111485001728</td><td>10</td><td>0</td><td>0</td><td>null</td><td>null</td><td>2024</td><td>2024-07-17T02:29:08.67Z</td></tr></tbody></table></div>"
      ]
     },
     "metadata": {
      "application/vnd.databricks.v1+output": {
       "addedWidgets": {},
       "aggData": [],
       "aggError": "",
       "aggOverflow": false,
       "aggSchema": [],
       "aggSeriesLimitReached": false,
       "aggType": "",
       "arguments": {},
       "columnCustomDisplayInfos": {},
       "data": [
        [
         "808516037942288384",
         1,
         7,
         7,
         1790.18,
         1707.88,
         2022,
         "2024-07-17T02:29:10.405Z"
        ],
        [
         "450908656402165760",
         2,
         9,
         5,
         1806.42,
         1720.25,
         2022,
         "2024-07-17T02:29:10.405Z"
        ],
        [
         "833592897646501888",
         3,
         4,
         10,
         1586.15,
         1738.57,
         2022,
         "2024-07-17T02:29:10.405Z"
        ],
        [
         "833593227880824832",
         4,
         7,
         7,
         1608.18,
         1659.26,
         2022,
         "2024-07-17T02:29:10.405Z"
        ],
        [
         "833594957678886912",
         5,
         7,
         7,
         1546.27,
         1706.72,
         2022,
         "2024-07-17T02:29:10.405Z"
        ],
        [
         "833595239125094400",
         6,
         5,
         9,
         1667.37,
         1734.19,
         2022,
         "2024-07-17T02:29:10.405Z"
        ],
        [
         "833595795143012352",
         7,
         6,
         8,
         1801.26,
         1721.71,
         2022,
         "2024-07-17T02:29:10.405Z"
        ],
        [
         "833614474954006528",
         8,
         12,
         2,
         2105.84,
         1688.91,
         2022,
         "2024-07-17T02:29:10.405Z"
        ],
        [
         "839024284771942400",
         9,
         5,
         9,
         1449.48,
         1693.78,
         2022,
         "2024-07-17T02:29:10.405Z"
        ],
        [
         "515068627679768576",
         10,
         8,
         6,
         1683.91,
         1673.79,
         2022,
         "2024-07-17T02:29:10.405Z"
        ],
        [
         "808516037942288384",
         1,
         8,
         6,
         1768.4,
         1640.74,
         2023,
         "2024-07-17T02:29:09.542Z"
        ],
        [
         "450908656402165760",
         2,
         10,
         4,
         1939.8,
         1711.12,
         2023,
         "2024-07-17T02:29:09.542Z"
        ],
        [
         "833592897646501888",
         3,
         4,
         10,
         1555.8,
         1812.32,
         2023,
         "2024-07-17T02:29:09.542Z"
        ],
        [
         "833593227880824832",
         4,
         6,
         8,
         1560.13,
         1691.44,
         2023,
         "2024-07-17T02:29:09.542Z"
        ],
        [
         "833594957678886912",
         5,
         4,
         10,
         1368.84,
         1609.33,
         2023,
         "2024-07-17T02:29:09.542Z"
        ],
        [
         "833595239125094400",
         6,
         10,
         4,
         1688.46,
         1565.25,
         2023,
         "2024-07-17T02:29:09.542Z"
        ],
        [
         "833595795143012352",
         7,
         9,
         5,
         1883.38,
         1744.49,
         2023,
         "2024-07-17T02:29:09.542Z"
        ],
        [
         "833614474954006528",
         8,
         10,
         4,
         2006.47,
         1581.81,
         2023,
         "2024-07-17T02:29:09.542Z"
        ],
        [
         "839024284771942400",
         9,
         8,
         6,
         1844.27,
         1625.6,
         2023,
         "2024-07-17T02:29:09.542Z"
        ],
        [
         "1020201111485001728",
         10,
         1,
         13,
         1157.59,
         1790.86,
         2023,
         "2024-07-17T02:29:09.542Z"
        ],
        [
         "808516037942288384",
         1,
         0,
         0,
         null,
         null,
         2024,
         "2024-07-17T02:29:08.67Z"
        ],
        [
         "450908656402165760",
         2,
         0,
         0,
         null,
         null,
         2024,
         "2024-07-17T02:29:08.67Z"
        ],
        [
         "833592897646501888",
         3,
         0,
         0,
         null,
         null,
         2024,
         "2024-07-17T02:29:08.67Z"
        ],
        [
         "833593227880824832",
         4,
         0,
         0,
         null,
         null,
         2024,
         "2024-07-17T02:29:08.67Z"
        ],
        [
         "833594957678886912",
         5,
         0,
         0,
         null,
         null,
         2024,
         "2024-07-17T02:29:08.67Z"
        ],
        [
         "833595239125094400",
         6,
         0,
         0,
         null,
         null,
         2024,
         "2024-07-17T02:29:08.67Z"
        ],
        [
         "833595795143012352",
         7,
         0,
         0,
         null,
         null,
         2024,
         "2024-07-17T02:29:08.67Z"
        ],
        [
         "833614474954006528",
         8,
         0,
         0,
         null,
         null,
         2024,
         "2024-07-17T02:29:08.67Z"
        ],
        [
         "839024284771942400",
         9,
         0,
         0,
         null,
         null,
         2024,
         "2024-07-17T02:29:08.67Z"
        ],
        [
         "1020201111485001728",
         10,
         0,
         0,
         null,
         null,
         2024,
         "2024-07-17T02:29:08.67Z"
        ]
       ],
       "datasetInfos": [],
       "dbfsResultPath": null,
       "isJsonSchema": true,
       "metadata": {},
       "overflow": false,
       "plotOptions": {
        "customPlotOptions": {},
        "displayType": "table",
        "pivotAggregation": null,
        "pivotColumns": null,
        "xColumns": null,
        "yColumns": null
       },
       "removedWidgets": [],
       "schema": [
        {
         "metadata": "{}",
         "name": "owner_id",
         "type": "\"decimal(38,0)\""
        },
        {
         "metadata": "{}",
         "name": "roster_id",
         "type": "\"integer\""
        },
        {
         "metadata": "{}",
         "name": "wins",
         "type": "\"integer\""
        },
        {
         "metadata": "{}",
         "name": "losses",
         "type": "\"integer\""
        },
        {
         "metadata": "{}",
         "name": "points_for",
         "type": "\"double\""
        },
        {
         "metadata": "{}",
         "name": "points_against",
         "type": "\"double\""
        },
        {
         "metadata": "{}",
         "name": "season",
         "type": "\"integer\""
        },
        {
         "metadata": "{}",
         "name": "ingestion_date",
         "type": "\"timestamp\""
        }
       ],
       "type": "table"
      }
     },
     "output_type": "display_data"
    }
   ],
   "source": [
    "display(spark.read.parquet(f\"/mnt/sleeperprojectdl/processed/standings\"))"
   ]
  }
 ],
 "metadata": {
  "application/vnd.databricks.v1+notebook": {
   "dashboards": [],
   "environmentMetadata": null,
   "language": "python",
   "notebookMetadata": {
    "pythonIndentUnit": 4
   },
   "notebookName": "rosters",
   "widgets": {}
  }
 },
 "nbformat": 4,
 "nbformat_minor": 0
}
