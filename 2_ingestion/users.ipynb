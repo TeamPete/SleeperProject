{
 "cells": [
  {
   "cell_type": "code",
   "execution_count": 0,
   "metadata": {
    "application/vnd.databricks.v1+cell": {
     "cellMetadata": {
      "byteLimit": 2048000,
      "rowLimit": 10000
     },
     "inputWidgets": {},
     "nuid": "ea7ae044-d934-43e3-9d73-8ee81cbae332",
     "showTitle": false,
     "title": ""
    }
   },
   "outputs": [],
   "source": [
    "%run \"../set-up/global_variables\""
   ]
  },
  {
   "cell_type": "code",
   "execution_count": 0,
   "metadata": {
    "application/vnd.databricks.v1+cell": {
     "cellMetadata": {
      "byteLimit": 2048000,
      "rowLimit": 10000
     },
     "inputWidgets": {},
     "nuid": "c59d5fc6-ff4f-42ee-bb63-ec267f0bf2d5",
     "showTitle": false,
     "title": ""
    }
   },
   "outputs": [],
   "source": [
    "from pyspark.sql.functions import col, concat, lit, current_timestamp\n",
    "from pyspark.sql.types import StructType, StructField, DecimalType, IntegerType, StringType, BooleanType\n",
    "import json"
   ]
  },
  {
   "cell_type": "code",
   "execution_count": 0,
   "metadata": {
    "application/vnd.databricks.v1+cell": {
     "cellMetadata": {
      "byteLimit": 2048000,
      "rowLimit": 10000
     },
     "inputWidgets": {},
     "nuid": "068ff1bd-8a92-4c15-91cc-558d749fb673",
     "showTitle": false,
     "title": ""
    }
   },
   "outputs": [],
   "source": [
    "users_as_string = dbutils.fs.head(\"/mnt/sleeperprojectdl/raw/2022/users.json\")\n",
    "users_as_json = json.loads(users_as_string)\n",
    "\n",
    "metadata_schema = StructType([StructField(item, StringType(), True) for item in users_as_json[0]['metadata']])\n",
    "\n",
    "users_schema = StructType([\n",
    "    StructField(\"user_id\", DecimalType(38,0), True),\n",
    "    StructField(\"settings\", StringType(), True),\n",
    "    StructField(\"metadata\", metadata_schema, True),\n",
    "    StructField(\"league_id\", DecimalType(38,0), True),\n",
    "    StructField(\"is_owner\", BooleanType(), True),\n",
    "    StructField(\"is_bot\", BooleanType(), True),\n",
    "    StructField(\"display_name\", StringType(), True),\n",
    "    StructField(\"avatar\", StringType(), True)\n",
    "])"
   ]
  },
  {
   "cell_type": "code",
   "execution_count": 0,
   "metadata": {
    "application/vnd.databricks.v1+cell": {
     "cellMetadata": {
      "byteLimit": 2048000,
      "rowLimit": 10000
     },
     "inputWidgets": {},
     "nuid": "e5bc7087-4cfc-4475-9b83-1efd9892b313",
     "showTitle": false,
     "title": ""
    }
   },
   "outputs": [],
   "source": [
    "for season in ALL_SEASONS.keys():\n",
    "    file_path = f\"/mnt/sleeperprojectdl/raw/{season}/users.json\"\n",
    "\n",
    "    if dbutils.fs.ls(file_path):\n",
    "        users_df = spark.read.json(file_path, schema=users_schema, multiLine=True)\n",
    "        users_final_df = users_df.select(\n",
    "            col('user_id'),\n",
    "            col('metadata.team_name'),\n",
    "            col('display_name')\n",
    "            ) \\\n",
    "            .withColumn('season', lit(season)) \\\n",
    "            .withColumn('ingestion_date', current_timestamp())\n",
    "        \n",
    "        users_final_df.write.mode(\"append\").parquet(f\"/mnt/sleeperprojectdl/processed/users\")\n",
    "    else:\n",
    "        print(f\"File not found: {file_path}\")"
   ]
  },
  {
   "cell_type": "code",
   "execution_count": 0,
   "metadata": {
    "application/vnd.databricks.v1+cell": {
     "cellMetadata": {
      "byteLimit": 2048000,
      "rowLimit": 10000
     },
     "inputWidgets": {},
     "nuid": "ed413d57-ab04-4c9c-9c22-88760d4fe33c",
     "showTitle": false,
     "title": ""
    }
   },
   "outputs": [
    {
     "output_type": "display_data",
     "data": {
      "text/html": [
       "<style scoped>\n",
       "  .table-result-container {\n",
       "    max-height: 300px;\n",
       "    overflow: auto;\n",
       "  }\n",
       "  table, th, td {\n",
       "    border: 1px solid black;\n",
       "    border-collapse: collapse;\n",
       "  }\n",
       "  th, td {\n",
       "    padding: 5px;\n",
       "  }\n",
       "  th {\n",
       "    text-align: left;\n",
       "  }\n",
       "</style><div class='table-result-container'><table class='table-result'><thead style='background-color: white'><tr><th>user_id</th><th>team_name</th><th>display_name</th><th>season</th><th>ingestion_date</th></tr></thead><tbody><tr><td>450908656402165760</td><td>Kermit and Friends</td><td>ShawnDeWin</td><td>2022</td><td>2024-07-16T23:55:25.612Z</td></tr><tr><td>515068627679768576</td><td>Chicken Coop</td><td>merrickwong</td><td>2022</td><td>2024-07-16T23:55:25.612Z</td></tr><tr><td>808516037942288384</td><td>mrkoolguy</td><td>the_kool_guy14</td><td>2022</td><td>2024-07-16T23:55:25.612Z</td></tr><tr><td>833592897646501888</td><td>Trevors Toilets</td><td>mawo</td><td>2022</td><td>2024-07-16T23:55:25.612Z</td></tr><tr><td>833593227880824832</td><td>Anger Management Clinic</td><td>rth15</td><td>2022</td><td>2024-07-16T23:55:25.612Z</td></tr><tr><td>833594957678886912</td><td>RADISNEY</td><td>tjlopez</td><td>2022</td><td>2024-07-16T23:55:25.612Z</td></tr><tr><td>833595239125094400</td><td>Brown Fever</td><td>hwinsane</td><td>2022</td><td>2024-07-16T23:55:25.612Z</td></tr><tr><td>833595795143012352</td><td>2010 Chargers</td><td>VishnuArul</td><td>2022</td><td>2024-07-16T23:55:25.612Z</td></tr><tr><td>833614474954006528</td><td>RADISNEY</td><td>kongfutranda</td><td>2022</td><td>2024-07-16T23:55:25.612Z</td></tr><tr><td>839024284771942400</td><td>The Deon Experience</td><td>dli88129</td><td>2022</td><td>2024-07-16T23:55:25.612Z</td></tr><tr><td>450908656402165760</td><td>Kermit and Friends</td><td>ShawnDeWin</td><td>2023</td><td>2024-07-16T23:55:24.926Z</td></tr><tr><td>808516037942288384</td><td>mrkoolguy</td><td>the_kool_guy14</td><td>2023</td><td>2024-07-16T23:55:24.926Z</td></tr><tr><td>833592897646501888</td><td>Trevors Toilets</td><td>mawo</td><td>2023</td><td>2024-07-16T23:55:24.926Z</td></tr><tr><td>833593227880824832</td><td>Anti anti-semitic</td><td>rth15</td><td>2023</td><td>2024-07-16T23:55:24.926Z</td></tr><tr><td>833594957678886912</td><td>Jew’s Next?</td><td>tjlopez</td><td>2023</td><td>2024-07-16T23:55:24.926Z</td></tr><tr><td>833595239125094400</td><td>The Hwin Dynasty</td><td>hwinsane</td><td>2023</td><td>2024-07-16T23:55:24.926Z</td></tr><tr><td>833595795143012352</td><td>Fuck them Picks</td><td>VishnuArul</td><td>2023</td><td>2024-07-16T23:55:24.926Z</td></tr><tr><td>833614474954006528</td><td>RADISNEY</td><td>kongfutranda</td><td>2023</td><td>2024-07-16T23:55:24.926Z</td></tr><tr><td>839024284771942400</td><td>Robbers</td><td>dli88129</td><td>2023</td><td>2024-07-16T23:55:24.926Z</td></tr><tr><td>1020201111485001728</td><td>Trust the Process 💯🗿</td><td>evannnnn2</td><td>2023</td><td>2024-07-16T23:55:24.926Z</td></tr><tr><td>450908656402165760</td><td>Kermit and Friends</td><td>ShawnDeWin</td><td>2024</td><td>2024-07-16T23:55:24.147Z</td></tr><tr><td>808516037942288384</td><td>42069 Champions</td><td>the_kool_guy14</td><td>2024</td><td>2024-07-16T23:55:24.147Z</td></tr><tr><td>833592897646501888</td><td>The Roman Empire</td><td>mawo</td><td>2024</td><td>2024-07-16T23:55:24.147Z</td></tr><tr><td>833593227880824832</td><td>Stroud Boys</td><td>rth15</td><td>2024</td><td>2024-07-16T23:55:24.147Z</td></tr><tr><td>833594957678886912</td><td>Jew’s Next? (Its Peter)</td><td>tjlopez</td><td>2024</td><td>2024-07-16T23:55:24.147Z</td></tr><tr><td>833595239125094400</td><td>Tyler, Forgive Me</td><td>hwinsane</td><td>2024</td><td>2024-07-16T23:55:24.147Z</td></tr><tr><td>833595795143012352</td><td>Feeling Purdy Good</td><td>VishnuArul</td><td>2024</td><td>2024-07-16T23:55:24.147Z</td></tr><tr><td>833614474954006528</td><td>Run CMC</td><td>kongfutranda</td><td>2024</td><td>2024-07-16T23:55:24.147Z</td></tr><tr><td>839024284771942400</td><td></td><td>dli88129</td><td>2024</td><td>2024-07-16T23:55:24.147Z</td></tr><tr><td>1020201111485001728</td><td>Trust the Process 💯🗿</td><td>evannnnn2</td><td>2024</td><td>2024-07-16T23:55:24.147Z</td></tr></tbody></table></div>"
      ]
     },
     "metadata": {
      "application/vnd.databricks.v1+output": {
       "addedWidgets": {},
       "aggData": [],
       "aggError": "",
       "aggOverflow": false,
       "aggSchema": [],
       "aggSeriesLimitReached": false,
       "aggType": "",
       "arguments": {},
       "columnCustomDisplayInfos": {},
       "data": [
        [
         "450908656402165760",
         "Kermit and Friends",
         "ShawnDeWin",
         2022,
         "2024-07-16T23:55:25.612Z"
        ],
        [
         "515068627679768576",
         "Chicken Coop",
         "merrickwong",
         2022,
         "2024-07-16T23:55:25.612Z"
        ],
        [
         "808516037942288384",
         "mrkoolguy",
         "the_kool_guy14",
         2022,
         "2024-07-16T23:55:25.612Z"
        ],
        [
         "833592897646501888",
         "Trevors Toilets",
         "mawo",
         2022,
         "2024-07-16T23:55:25.612Z"
        ],
        [
         "833593227880824832",
         "Anger Management Clinic",
         "rth15",
         2022,
         "2024-07-16T23:55:25.612Z"
        ],
        [
         "833594957678886912",
         "RADISNEY",
         "tjlopez",
         2022,
         "2024-07-16T23:55:25.612Z"
        ],
        [
         "833595239125094400",
         "Brown Fever",
         "hwinsane",
         2022,
         "2024-07-16T23:55:25.612Z"
        ],
        [
         "833595795143012352",
         "2010 Chargers",
         "VishnuArul",
         2022,
         "2024-07-16T23:55:25.612Z"
        ],
        [
         "833614474954006528",
         "RADISNEY",
         "kongfutranda",
         2022,
         "2024-07-16T23:55:25.612Z"
        ],
        [
         "839024284771942400",
         "The Deon Experience",
         "dli88129",
         2022,
         "2024-07-16T23:55:25.612Z"
        ],
        [
         "450908656402165760",
         "Kermit and Friends",
         "ShawnDeWin",
         2023,
         "2024-07-16T23:55:24.926Z"
        ],
        [
         "808516037942288384",
         "mrkoolguy",
         "the_kool_guy14",
         2023,
         "2024-07-16T23:55:24.926Z"
        ],
        [
         "833592897646501888",
         "Trevors Toilets",
         "mawo",
         2023,
         "2024-07-16T23:55:24.926Z"
        ],
        [
         "833593227880824832",
         "Anti anti-semitic",
         "rth15",
         2023,
         "2024-07-16T23:55:24.926Z"
        ],
        [
         "833594957678886912",
         "Jew’s Next?",
         "tjlopez",
         2023,
         "2024-07-16T23:55:24.926Z"
        ],
        [
         "833595239125094400",
         "The Hwin Dynasty",
         "hwinsane",
         2023,
         "2024-07-16T23:55:24.926Z"
        ],
        [
         "833595795143012352",
         "Fuck them Picks",
         "VishnuArul",
         2023,
         "2024-07-16T23:55:24.926Z"
        ],
        [
         "833614474954006528",
         "RADISNEY",
         "kongfutranda",
         2023,
         "2024-07-16T23:55:24.926Z"
        ],
        [
         "839024284771942400",
         "Robbers",
         "dli88129",
         2023,
         "2024-07-16T23:55:24.926Z"
        ],
        [
         "1020201111485001728",
         "Trust the Process 💯🗿",
         "evannnnn2",
         2023,
         "2024-07-16T23:55:24.926Z"
        ],
        [
         "450908656402165760",
         "Kermit and Friends",
         "ShawnDeWin",
         2024,
         "2024-07-16T23:55:24.147Z"
        ],
        [
         "808516037942288384",
         "42069 Champions",
         "the_kool_guy14",
         2024,
         "2024-07-16T23:55:24.147Z"
        ],
        [
         "833592897646501888",
         "The Roman Empire",
         "mawo",
         2024,
         "2024-07-16T23:55:24.147Z"
        ],
        [
         "833593227880824832",
         "Stroud Boys",
         "rth15",
         2024,
         "2024-07-16T23:55:24.147Z"
        ],
        [
         "833594957678886912",
         "Jew’s Next? (Its Peter)",
         "tjlopez",
         2024,
         "2024-07-16T23:55:24.147Z"
        ],
        [
         "833595239125094400",
         "Tyler, Forgive Me",
         "hwinsane",
         2024,
         "2024-07-16T23:55:24.147Z"
        ],
        [
         "833595795143012352",
         "Feeling Purdy Good",
         "VishnuArul",
         2024,
         "2024-07-16T23:55:24.147Z"
        ],
        [
         "833614474954006528",
         "Run CMC",
         "kongfutranda",
         2024,
         "2024-07-16T23:55:24.147Z"
        ],
        [
         "839024284771942400",
         "",
         "dli88129",
         2024,
         "2024-07-16T23:55:24.147Z"
        ],
        [
         "1020201111485001728",
         "Trust the Process 💯🗿",
         "evannnnn2",
         2024,
         "2024-07-16T23:55:24.147Z"
        ]
       ],
       "datasetInfos": [],
       "dbfsResultPath": null,
       "isJsonSchema": true,
       "metadata": {},
       "overflow": false,
       "plotOptions": {
        "customPlotOptions": {},
        "displayType": "table",
        "pivotAggregation": null,
        "pivotColumns": null,
        "xColumns": null,
        "yColumns": null
       },
       "removedWidgets": [],
       "schema": [
        {
         "metadata": "{}",
         "name": "user_id",
         "type": "\"decimal(38,0)\""
        },
        {
         "metadata": "{}",
         "name": "team_name",
         "type": "\"string\""
        },
        {
         "metadata": "{}",
         "name": "display_name",
         "type": "\"string\""
        },
        {
         "metadata": "{}",
         "name": "season",
         "type": "\"integer\""
        },
        {
         "metadata": "{}",
         "name": "ingestion_date",
         "type": "\"timestamp\""
        }
       ],
       "type": "table"
      }
     },
     "output_type": "display_data"
    }
   ],
   "source": [
    "display(spark.read.parquet(\"/mnt/sleeperprojectdl/processed/users\"))"
   ]
  }
 ],
 "metadata": {
  "application/vnd.databricks.v1+notebook": {
   "dashboards": [],
   "environmentMetadata": null,
   "language": "python",
   "notebookMetadata": {
    "pythonIndentUnit": 4
   },
   "notebookName": "users",
   "widgets": {}
  }
 },
 "nbformat": 4,
 "nbformat_minor": 0
}
