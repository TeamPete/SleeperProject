{
 "cells": [
  {
   "cell_type": "code",
   "execution_count": 0,
   "metadata": {
    "application/vnd.databricks.v1+cell": {
     "cellMetadata": {
      "byteLimit": 2048000,
      "rowLimit": 10000
     },
     "inputWidgets": {},
     "nuid": "9529f6fd-aa7d-4382-8408-f9b1de546ba9",
     "showTitle": false,
     "title": ""
    }
   },
   "outputs": [],
   "source": [
    "%run \"../set-up/global_variables\""
   ]
  },
  {
   "cell_type": "code",
   "execution_count": 0,
   "metadata": {
    "application/vnd.databricks.v1+cell": {
     "cellMetadata": {
      "byteLimit": 2048000,
      "rowLimit": 10000
     },
     "inputWidgets": {},
     "nuid": "5f910e52-d8ab-4f2f-9640-02b134c511d3",
     "showTitle": false,
     "title": ""
    }
   },
   "outputs": [],
   "source": [
    "import json\n",
    "from pyspark.sql.types import StructType, StructField, StringType, IntegerType, FloatType, ArrayType, BooleanType, DecimalType\n",
    "from pyspark.sql.functions import col, current_timestamp, when, lit"
   ]
  },
  {
   "cell_type": "code",
   "execution_count": 0,
   "metadata": {
    "application/vnd.databricks.v1+cell": {
     "cellMetadata": {
      "byteLimit": 2048000,
      "rowLimit": 10000
     },
     "inputWidgets": {},
     "nuid": "b05b8870-3109-411d-ac50-7b94e3c3f6f0",
     "showTitle": false,
     "title": ""
    }
   },
   "outputs": [],
   "source": [
    "# We don't need to loop through schema definition; we trust each JSON file is formatted consistently\n",
    "league_info_raw_as_string = dbutils.fs.head('/mnt/sleeperprojectdl/raw/2022/league_info.json')\n",
    "league_info_raw_as_dict = json.loads(league_info_raw_as_string)\n",
    "\n",
    "scoring_settings_schema = \\\n",
    "    StructType([StructField(key, FloatType(), True) for key in league_info_raw_as_dict['scoring_settings'].keys()])\n",
    "\n",
    "league_settings_schema = \\\n",
    "    StructType([StructField(key, IntegerType(), True) for key in league_info_raw_as_dict['settings'].keys()])\n",
    "\n",
    "metadata_schema = \\\n",
    "    StructType([StructField(key, StringType(), True) for key in league_info_raw_as_dict['metadata'].keys()])\n",
    "\n",
    "league_info_schema = StructType([\n",
    "    StructField('league_id', DecimalType(38, 0), True),\n",
    "    StructField('name', StringType(), True),\n",
    "    StructField('season', StringType(), True),\n",
    "    StructField('status', StringType(), True),\n",
    "    StructField('previous_league_id', DecimalType(38, 0), True),\n",
    "    StructField('draft_id', DecimalType(38, 0), True),\n",
    "    StructField('total_rosters', IntegerType(), True),\n",
    "    StructField('bracket_id', DecimalType(38, 0), True),\n",
    "    StructField('loser_bracket_id', DecimalType(38, 0), True),\n",
    "    StructField('roster_positions', ArrayType(StringType()), True),\n",
    "    StructField('group_id', StringType(), True),\n",
    "    StructField('last_read_id', StringType(), True),\n",
    "    StructField('last_pinned_message_id', StringType(), True),\n",
    "    StructField('last_message_time', StringType(), True),\n",
    "    StructField('last_message_text_map', StringType(), True),\n",
    "    StructField('last_message_attachment', StringType(), True),\n",
    "    StructField('last_author_is_bot', BooleanType(), True),\n",
    "    StructField('last_author_id', StringType(), True),\n",
    "    StructField('last_author_display_name', StringType(), True),\n",
    "    StructField('last_author_avatar', StringType(), True),\n",
    "    StructField('last_message_id', StringType(), True),\n",
    "    StructField('shard', IntegerType(), True),\n",
    "    StructField('sport', StringType(), True),\n",
    "    StructField('season_type', StringType(), True),\n",
    "    StructField('scoring_settings', scoring_settings_schema, True),\n",
    "    StructField('company_id', StringType(), True),\n",
    "    StructField('avatar', StringType(), True),\n",
    "    StructField('settings', league_settings_schema, True),\n",
    "    StructField('metadata', metadata_schema, True)\n",
    "])"
   ]
  },
  {
   "cell_type": "code",
   "execution_count": 0,
   "metadata": {
    "application/vnd.databricks.v1+cell": {
     "cellMetadata": {
      "byteLimit": 2048000,
      "rowLimit": 10000
     },
     "inputWidgets": {},
     "nuid": "09454538-73c0-4116-ada9-19a0e66b8aaf",
     "showTitle": false,
     "title": ""
    }
   },
   "outputs": [],
   "source": [
    "# Create empty list of DataFrames\n",
    "dfs_to_union = []\n",
    "\n",
    "# Iterate through all the league_info files\n",
    "for season in ALL_SEASONS.keys():\n",
    "    file_path = f\"/mnt/sleeperprojectdl/raw/{season}/league_info.json\"\n",
    "\n",
    "    # Check if file path exists\n",
    "    if dbutils.fs.ls(file_path):\n",
    "        league_info_df = spark.read.json(file_path, multiLine=True, schema=league_info_schema)\n",
    "\n",
    "        # Select columns we only need, add ingestion date\n",
    "        league_info_final_df = league_info_df \\\n",
    "        .withColumnRenamed('bracket_id', 'playoff_bracket_id') \\\n",
    "        .select(\n",
    "            col('league_id'),\n",
    "            col('name'),\n",
    "            col('season'),\n",
    "            col('settings.trade_deadline'),\n",
    "            col('settings.playoff_week_start'),\n",
    "            col('settings.playoff_teams'),\n",
    "            col('status'),\n",
    "            col('previous_league_id'),\n",
    "            col('draft_id'),\n",
    "            col('settings.num_teams'),\n",
    "            col('playoff_bracket_id'),\n",
    "            col('loser_bracket_id'),\n",
    "            col('metadata.latest_league_winner_roster_id')\n",
    "        ) \\\n",
    "        .withColumnRenamed('latest_league_winner_roster_id', 'champion') \\\n",
    "        .withColumn('champion', when(col('status') == 'in_season', lit(None)).otherwise(col('champion'))) \\\n",
    "        .withColumn('ingestion_date', current_timestamp()) \n",
    "\n",
    "        # Add the final DataFrame to dfs_to_union list\n",
    "        dfs_to_union.append(league_info_final_df)\n",
    "    \n",
    "    else:\n",
    "        print(f\"File not found: {file_path}\")"
   ]
  },
  {
   "cell_type": "code",
   "execution_count": 0,
   "metadata": {
    "application/vnd.databricks.v1+cell": {
     "cellMetadata": {
      "byteLimit": 2048000,
      "rowLimit": 10000
     },
     "inputWidgets": {},
     "nuid": "6b4cb1f6-4fee-4d5f-8898-ff56a3214a8c",
     "showTitle": false,
     "title": ""
    }
   },
   "outputs": [
    {
     "output_type": "display_data",
     "data": {
      "text/html": [
       "<style scoped>\n",
       "  .table-result-container {\n",
       "    max-height: 300px;\n",
       "    overflow: auto;\n",
       "  }\n",
       "  table, th, td {\n",
       "    border: 1px solid black;\n",
       "    border-collapse: collapse;\n",
       "  }\n",
       "  th, td {\n",
       "    padding: 5px;\n",
       "  }\n",
       "  th {\n",
       "    text-align: left;\n",
       "  }\n",
       "</style><div class='table-result-container'><table class='table-result'><thead style='background-color: white'><tr><th>league_id</th><th>name</th><th>season</th><th>trade_deadline</th><th>playoff_week_start</th><th>playoff_teams</th><th>status</th><th>previous_league_id</th><th>draft_id</th><th>num_teams</th><th>playoff_bracket_id</th><th>loser_bracket_id</th><th>champion</th><th>ingestion_date</th></tr></thead><tbody><tr><td>1048353521130741760</td><td>Tyler’s Golden Age</td><td>2024</td><td>13</td><td>15</td><td>6</td><td>in_season</td><td>917263521006592000</td><td>1048353521130741761</td><td>10</td><td>null</td><td>null</td><td>null</td><td>2024-07-09T01:19:35.64Z</td></tr><tr><td>917263521006592000</td><td>Tyler’s Golden Age</td><td>2023</td><td>13</td><td>15</td><td>6</td><td>complete</td><td>833585949995814912</td><td>917263521006592001</td><td>10</td><td>1045856247787900928</td><td>1045856247796289536</td><td>8</td><td>2024-07-09T01:19:35.64Z</td></tr><tr><td>833585949995814912</td><td>Tyler’s Golden Age</td><td>2022</td><td>13</td><td>15</td><td>6</td><td>complete</td><td>null</td><td>833585950700474368</td><td>10</td><td>916918010848493568</td><td>916918010852687872</td><td>1</td><td>2024-07-09T01:19:35.64Z</td></tr></tbody></table></div>"
      ]
     },
     "metadata": {
      "application/vnd.databricks.v1+output": {
       "addedWidgets": {},
       "aggData": [],
       "aggError": "",
       "aggOverflow": false,
       "aggSchema": [],
       "aggSeriesLimitReached": false,
       "aggType": "",
       "arguments": {},
       "columnCustomDisplayInfos": {},
       "data": [
        [
         "1048353521130741760",
         "Tyler’s Golden Age",
         "2024",
         13,
         15,
         6,
         "in_season",
         "917263521006592000",
         "1048353521130741761",
         10,
         null,
         null,
         null,
         "2024-07-09T01:19:35.64Z"
        ],
        [
         "917263521006592000",
         "Tyler’s Golden Age",
         "2023",
         13,
         15,
         6,
         "complete",
         "833585949995814912",
         "917263521006592001",
         10,
         "1045856247787900928",
         "1045856247796289536",
         "8",
         "2024-07-09T01:19:35.64Z"
        ],
        [
         "833585949995814912",
         "Tyler’s Golden Age",
         "2022",
         13,
         15,
         6,
         "complete",
         null,
         "833585950700474368",
         10,
         "916918010848493568",
         "916918010852687872",
         "1",
         "2024-07-09T01:19:35.64Z"
        ]
       ],
       "datasetInfos": [],
       "dbfsResultPath": null,
       "isJsonSchema": true,
       "metadata": {},
       "overflow": false,
       "plotOptions": {
        "customPlotOptions": {},
        "displayType": "table",
        "pivotAggregation": null,
        "pivotColumns": null,
        "xColumns": null,
        "yColumns": null
       },
       "removedWidgets": [],
       "schema": [
        {
         "metadata": "{}",
         "name": "league_id",
         "type": "\"decimal(38,0)\""
        },
        {
         "metadata": "{}",
         "name": "name",
         "type": "\"string\""
        },
        {
         "metadata": "{}",
         "name": "season",
         "type": "\"string\""
        },
        {
         "metadata": "{}",
         "name": "trade_deadline",
         "type": "\"integer\""
        },
        {
         "metadata": "{}",
         "name": "playoff_week_start",
         "type": "\"integer\""
        },
        {
         "metadata": "{}",
         "name": "playoff_teams",
         "type": "\"integer\""
        },
        {
         "metadata": "{}",
         "name": "status",
         "type": "\"string\""
        },
        {
         "metadata": "{}",
         "name": "previous_league_id",
         "type": "\"decimal(38,0)\""
        },
        {
         "metadata": "{}",
         "name": "draft_id",
         "type": "\"decimal(38,0)\""
        },
        {
         "metadata": "{}",
         "name": "num_teams",
         "type": "\"integer\""
        },
        {
         "metadata": "{}",
         "name": "playoff_bracket_id",
         "type": "\"decimal(38,0)\""
        },
        {
         "metadata": "{}",
         "name": "loser_bracket_id",
         "type": "\"decimal(38,0)\""
        },
        {
         "metadata": "{}",
         "name": "champion",
         "type": "\"string\""
        },
        {
         "metadata": "{}",
         "name": "ingestion_date",
         "type": "\"timestamp\""
        }
       ],
       "type": "table"
      }
     },
     "output_type": "display_data"
    }
   ],
   "source": [
    "# Create stacked DataFrame by first initializing first DataFrame in list\n",
    "all_league_info_df = dfs_to_union[0]\n",
    "\n",
    "# Iterate over the remaining DataFrames and stack them\n",
    "for df in dfs_to_union[1:]:\n",
    "    all_league_info_df = all_league_info_df.union(df)\n",
    "\n",
    "display(all_league_info_df)"
   ]
  },
  {
   "cell_type": "code",
   "execution_count": 0,
   "metadata": {
    "application/vnd.databricks.v1+cell": {
     "cellMetadata": {
      "byteLimit": 2048000,
      "rowLimit": 10000
     },
     "inputWidgets": {},
     "nuid": "6bc5bd07-1291-447c-a948-5c5439402d84",
     "showTitle": false,
     "title": ""
    }
   },
   "outputs": [],
   "source": [
    "# Write unionized DataFrame to Data Lake as a parquet file\n",
    "all_league_info_df.write.mode(\"overwrite\").parquet(\"/mnt/sleeperprojectdl/processed/league_info\")"
   ]
  },
  {
   "cell_type": "code",
   "execution_count": 0,
   "metadata": {
    "application/vnd.databricks.v1+cell": {
     "cellMetadata": {
      "byteLimit": 2048000,
      "rowLimit": 10000
     },
     "inputWidgets": {},
     "nuid": "42e13885-a3cf-45d9-a17a-71327a278ac9",
     "showTitle": false,
     "title": ""
    }
   },
   "outputs": [
    {
     "output_type": "display_data",
     "data": {
      "text/html": [
       "<style scoped>\n",
       "  .table-result-container {\n",
       "    max-height: 300px;\n",
       "    overflow: auto;\n",
       "  }\n",
       "  table, th, td {\n",
       "    border: 1px solid black;\n",
       "    border-collapse: collapse;\n",
       "  }\n",
       "  th, td {\n",
       "    padding: 5px;\n",
       "  }\n",
       "  th {\n",
       "    text-align: left;\n",
       "  }\n",
       "</style><div class='table-result-container'><table class='table-result'><thead style='background-color: white'><tr><th>path</th><th>name</th><th>size</th><th>modificationTime</th></tr></thead><tbody><tr><td>dbfs:/mnt/sleeperprojectdl/processed/2022/</td><td>2022/</td><td>0</td><td>1719970284000</td></tr><tr><td>dbfs:/mnt/sleeperprojectdl/processed/2023/</td><td>2023/</td><td>0</td><td>1719970283000</td></tr><tr><td>dbfs:/mnt/sleeperprojectdl/processed/2024/</td><td>2024/</td><td>0</td><td>1719970278000</td></tr><tr><td>dbfs:/mnt/sleeperprojectdl/processed/league_info/</td><td>league_info/</td><td>0</td><td>1720487977000</td></tr></tbody></table></div>"
      ]
     },
     "metadata": {
      "application/vnd.databricks.v1+output": {
       "addedWidgets": {},
       "aggData": [],
       "aggError": "",
       "aggOverflow": false,
       "aggSchema": [],
       "aggSeriesLimitReached": false,
       "aggType": "",
       "arguments": {},
       "columnCustomDisplayInfos": {},
       "data": [
        [
         "dbfs:/mnt/sleeperprojectdl/processed/2022/",
         "2022/",
         0,
         1719970284000
        ],
        [
         "dbfs:/mnt/sleeperprojectdl/processed/2023/",
         "2023/",
         0,
         1719970283000
        ],
        [
         "dbfs:/mnt/sleeperprojectdl/processed/2024/",
         "2024/",
         0,
         1719970278000
        ],
        [
         "dbfs:/mnt/sleeperprojectdl/processed/league_info/",
         "league_info/",
         0,
         1720487977000
        ]
       ],
       "datasetInfos": [],
       "dbfsResultPath": null,
       "isJsonSchema": true,
       "metadata": {
        "isDbfsCommandResult": false
       },
       "overflow": false,
       "plotOptions": {
        "customPlotOptions": {},
        "displayType": "table",
        "pivotAggregation": null,
        "pivotColumns": null,
        "xColumns": null,
        "yColumns": null
       },
       "removedWidgets": [],
       "schema": [
        {
         "metadata": "{}",
         "name": "path",
         "type": "\"string\""
        },
        {
         "metadata": "{}",
         "name": "name",
         "type": "\"string\""
        },
        {
         "metadata": "{}",
         "name": "size",
         "type": "\"long\""
        },
        {
         "metadata": "{}",
         "name": "modificationTime",
         "type": "\"long\""
        }
       ],
       "type": "table"
      }
     },
     "output_type": "display_data"
    }
   ],
   "source": [
    "%fs\n",
    "ls /mnt/sleeperprojectdl/processed/"
   ]
  },
  {
   "cell_type": "code",
   "execution_count": 0,
   "metadata": {
    "application/vnd.databricks.v1+cell": {
     "cellMetadata": {
      "byteLimit": 2048000,
      "rowLimit": 10000
     },
     "inputWidgets": {},
     "nuid": "69d12338-42a7-45f3-b812-50564037b0e4",
     "showTitle": false,
     "title": ""
    }
   },
   "outputs": [
    {
     "output_type": "display_data",
     "data": {
      "text/html": [
       "<style scoped>\n",
       "  .table-result-container {\n",
       "    max-height: 300px;\n",
       "    overflow: auto;\n",
       "  }\n",
       "  table, th, td {\n",
       "    border: 1px solid black;\n",
       "    border-collapse: collapse;\n",
       "  }\n",
       "  th, td {\n",
       "    padding: 5px;\n",
       "  }\n",
       "  th {\n",
       "    text-align: left;\n",
       "  }\n",
       "</style><div class='table-result-container'><table class='table-result'><thead style='background-color: white'><tr><th>league_id</th><th>name</th><th>season</th><th>trade_deadline</th><th>playoff_week_start</th><th>playoff_teams</th><th>status</th><th>previous_league_id</th><th>draft_id</th><th>num_teams</th><th>playoff_bracket_id</th><th>loser_bracket_id</th><th>champion</th><th>ingestion_date</th></tr></thead><tbody><tr><td>917263521006592000</td><td>Tyler’s Golden Age</td><td>2023</td><td>13</td><td>15</td><td>6</td><td>complete</td><td>833585949995814912</td><td>917263521006592001</td><td>10</td><td>1045856247787900928</td><td>1045856247796289536</td><td>8</td><td>2024-07-09T01:19:36.752Z</td></tr><tr><td>833585949995814912</td><td>Tyler’s Golden Age</td><td>2022</td><td>13</td><td>15</td><td>6</td><td>complete</td><td>null</td><td>833585950700474368</td><td>10</td><td>916918010848493568</td><td>916918010852687872</td><td>1</td><td>2024-07-09T01:19:36.752Z</td></tr><tr><td>1048353521130741760</td><td>Tyler’s Golden Age</td><td>2024</td><td>13</td><td>15</td><td>6</td><td>in_season</td><td>917263521006592000</td><td>1048353521130741761</td><td>10</td><td>null</td><td>null</td><td>null</td><td>2024-07-09T01:19:36.752Z</td></tr></tbody></table></div>"
      ]
     },
     "metadata": {
      "application/vnd.databricks.v1+output": {
       "addedWidgets": {},
       "aggData": [],
       "aggError": "",
       "aggOverflow": false,
       "aggSchema": [],
       "aggSeriesLimitReached": false,
       "aggType": "",
       "arguments": {},
       "columnCustomDisplayInfos": {},
       "data": [
        [
         "917263521006592000",
         "Tyler’s Golden Age",
         "2023",
         13,
         15,
         6,
         "complete",
         "833585949995814912",
         "917263521006592001",
         10,
         "1045856247787900928",
         "1045856247796289536",
         "8",
         "2024-07-09T01:19:36.752Z"
        ],
        [
         "833585949995814912",
         "Tyler’s Golden Age",
         "2022",
         13,
         15,
         6,
         "complete",
         null,
         "833585950700474368",
         10,
         "916918010848493568",
         "916918010852687872",
         "1",
         "2024-07-09T01:19:36.752Z"
        ],
        [
         "1048353521130741760",
         "Tyler’s Golden Age",
         "2024",
         13,
         15,
         6,
         "in_season",
         "917263521006592000",
         "1048353521130741761",
         10,
         null,
         null,
         null,
         "2024-07-09T01:19:36.752Z"
        ]
       ],
       "datasetInfos": [],
       "dbfsResultPath": null,
       "isJsonSchema": true,
       "metadata": {},
       "overflow": false,
       "plotOptions": {
        "customPlotOptions": {},
        "displayType": "table",
        "pivotAggregation": null,
        "pivotColumns": null,
        "xColumns": null,
        "yColumns": null
       },
       "removedWidgets": [],
       "schema": [
        {
         "metadata": "{}",
         "name": "league_id",
         "type": "\"decimal(38,0)\""
        },
        {
         "metadata": "{}",
         "name": "name",
         "type": "\"string\""
        },
        {
         "metadata": "{}",
         "name": "season",
         "type": "\"string\""
        },
        {
         "metadata": "{}",
         "name": "trade_deadline",
         "type": "\"integer\""
        },
        {
         "metadata": "{}",
         "name": "playoff_week_start",
         "type": "\"integer\""
        },
        {
         "metadata": "{}",
         "name": "playoff_teams",
         "type": "\"integer\""
        },
        {
         "metadata": "{}",
         "name": "status",
         "type": "\"string\""
        },
        {
         "metadata": "{}",
         "name": "previous_league_id",
         "type": "\"decimal(38,0)\""
        },
        {
         "metadata": "{}",
         "name": "draft_id",
         "type": "\"decimal(38,0)\""
        },
        {
         "metadata": "{}",
         "name": "num_teams",
         "type": "\"integer\""
        },
        {
         "metadata": "{}",
         "name": "playoff_bracket_id",
         "type": "\"decimal(38,0)\""
        },
        {
         "metadata": "{}",
         "name": "loser_bracket_id",
         "type": "\"decimal(38,0)\""
        },
        {
         "metadata": "{}",
         "name": "champion",
         "type": "\"string\""
        },
        {
         "metadata": "{}",
         "name": "ingestion_date",
         "type": "\"timestamp\""
        }
       ],
       "type": "table"
      }
     },
     "output_type": "display_data"
    }
   ],
   "source": [
    "display(spark.read.parquet(\"/mnt/sleeperprojectdl/processed/league_info\"))"
   ]
  }
 ],
 "metadata": {
  "application/vnd.databricks.v1+notebook": {
   "dashboards": [],
   "environmentMetadata": {
    "base_environment": "",
    "client": "1"
   },
   "language": "python",
   "notebookMetadata": {
    "mostRecentlyExecutedCommandWithImplicitDF": {
     "commandId": 1823753237791030,
     "dataframes": [
      "_sqldf"
     ]
    },
    "pythonIndentUnit": 4
   },
   "notebookName": "league_info",
   "widgets": {}
  }
 },
 "nbformat": 4,
 "nbformat_minor": 0
}
