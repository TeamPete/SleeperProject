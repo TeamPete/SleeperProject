{
 "cells": [
  {
   "cell_type": "code",
   "execution_count": 0,
   "metadata": {
    "application/vnd.databricks.v1+cell": {
     "cellMetadata": {
      "byteLimit": 2048000,
      "rowLimit": 10000
     },
     "inputWidgets": {},
     "nuid": "d3782e71-b43e-4552-9fed-a892fb6b11cd",
     "showTitle": false,
     "title": ""
    }
   },
   "outputs": [],
   "source": [
    "%run \"../set-up/global_variables\""
   ]
  },
  {
   "cell_type": "code",
   "execution_count": 0,
   "metadata": {
    "application/vnd.databricks.v1+cell": {
     "cellMetadata": {
      "byteLimit": 2048000,
      "rowLimit": 10000
     },
     "inputWidgets": {},
     "nuid": "86e5f3ba-611c-4cce-b73f-f2c59298e404",
     "showTitle": false,
     "title": ""
    }
   },
   "outputs": [],
   "source": [
    "from pyspark.sql.functions import col, current_timestamp"
   ]
  },
  {
   "cell_type": "code",
   "execution_count": 0,
   "metadata": {
    "application/vnd.databricks.v1+cell": {
     "cellMetadata": {
      "byteLimit": 2048000,
      "rowLimit": 10000
     },
     "inputWidgets": {},
     "nuid": "e086ccd4-0634-4831-89ce-9c152199d1ca",
     "showTitle": false,
     "title": ""
    }
   },
   "outputs": [],
   "source": [
    "nfl_players_df = spark.read.option(\"header\", \"true\").csv('/mnt/sleeperprojectdl/raw/nfl_players.csv', inferSchema=True)"
   ]
  },
  {
   "cell_type": "code",
   "execution_count": 0,
   "metadata": {
    "application/vnd.databricks.v1+cell": {
     "cellMetadata": {
      "byteLimit": 2048000,
      "rowLimit": 10000
     },
     "inputWidgets": {},
     "nuid": "feda09f0-36b4-410c-b797-a233f849aad0",
     "showTitle": false,
     "title": ""
    }
   },
   "outputs": [],
   "source": [
    "nfl_players_df = nfl_players_df.withColumn(\"ingestion_date\", current_timestamp())"
   ]
  },
  {
   "cell_type": "code",
   "execution_count": 0,
   "metadata": {
    "application/vnd.databricks.v1+cell": {
     "cellMetadata": {
      "byteLimit": 2048000,
      "rowLimit": 10000
     },
     "inputWidgets": {},
     "nuid": "9d5c31d0-e792-4a7b-a4b3-fc4d056aec17",
     "showTitle": false,
     "title": ""
    }
   },
   "outputs": [],
   "source": [
    "nfl_players_df.write.parquet(\"/mnt/sleeperprojectdl/processed/nfl_players\")"
   ]
  }
 ],
 "metadata": {
  "application/vnd.databricks.v1+notebook": {
   "dashboards": [],
   "environmentMetadata": null,
   "language": "python",
   "notebookMetadata": {
    "pythonIndentUnit": 4
   },
   "notebookName": "nfl_players",
   "widgets": {}
  }
 },
 "nbformat": 4,
 "nbformat_minor": 0
}
