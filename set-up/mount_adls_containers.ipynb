{
 "cells": [
  {
   "cell_type": "code",
   "execution_count": 0,
   "metadata": {
    "application/vnd.databricks.v1+cell": {
     "cellMetadata": {
      "byteLimit": 2048000,
      "rowLimit": 10000
     },
     "inputWidgets": {},
     "nuid": "0304156f-5c0c-46d2-8511-45b32302242c",
     "showTitle": false,
     "title": ""
    }
   },
   "outputs": [],
   "source": [
    "def mount_adls(storage_account, container_name):\n",
    "    # Get secrets from Azure Key Vault\n",
    "    client_id = dbutils.secrets.get(scope= 'sleeper-secret-scope', key= 'sleeper-project-client-id')\n",
    "    tenant_id = dbutils.secrets.get(scope= 'sleeper-secret-scope', key= 'sleeper-project-tenant-id')\n",
    "    client_secret = dbutils.secrets.get(scope= 'sleeper-secret-scope', key= 'sleeper-project-client-secret')\n",
    "\n",
    "    # Set Spark configuration\n",
    "    configs = {\"fs.azure.account.auth.type\": \"OAuth\",\n",
    "          \"fs.azure.account.oauth.provider.type\": \"org.apache.hadoop.fs.azurebfs.oauth2.ClientCredsTokenProvider\",\n",
    "          \"fs.azure.account.oauth2.client.id\": client_id,\n",
    "          \"fs.azure.account.oauth2.client.secret\": client_secret,\n",
    "          \"fs.azure.account.oauth2.client.endpoint\": f\"https://login.microsoftonline.com/{tenant_id}/oauth2/token\"}\n",
    "    \n",
    "    # Create mount point\n",
    "    mount_point = f\"/mnt/{storage_account}/{container_name}\"\n",
    "    \n",
    "    # Check if mount point already exists\n",
    "    existing_mounts = [mount.mountPoint for mount in dbutils.fs.mounts()]\n",
    "\n",
    "    if mount_point in existing_mounts:\n",
    "        # Unmount the existing mount point\n",
    "        dbutils.fs.unmount(mount_point)\n",
    "        print(f\"Unmounted previously existing mount at {mount_point}\")\n",
    "    \n",
    "    # Mount the storage account container\n",
    "    dbutils.fs.mount(\n",
    "        source = f\"abfss://{container_name}@{storage_account}.dfs.core.windows.net/\",\n",
    "        mount_point = mount_point,\n",
    "        extra_configs = configs)\n",
    "    \n",
    "    print(f\"Successfully mounted abfss://{container_name}@{storage_account}.dfs.core.windows.net/ to {mount_point}\")"
   ]
  },
  {
   "cell_type": "code",
   "execution_count": 0,
   "metadata": {
    "application/vnd.databricks.v1+cell": {
     "cellMetadata": {
      "byteLimit": 2048000,
      "rowLimit": 10000
     },
     "inputWidgets": {},
     "nuid": "649cadc3-e05a-4f2c-bf76-86cb11195b6a",
     "showTitle": false,
     "title": ""
    }
   },
   "outputs": [
    {
     "output_type": "stream",
     "name": "stdout",
     "output_type": "stream",
     "text": [
      "/mnt/sleeperprojectdl/raw has been unmounted.\nUnmounted previously existing mount at /mnt/sleeperprojectdl/raw\nSuccessfully mounted abfss://raw@sleeperprojectdl.dfs.core.windows.net/ to /mnt/sleeperprojectdl/raw\n/mnt/sleeperprojectdl/processed has been unmounted.\nUnmounted previously existing mount at /mnt/sleeperprojectdl/processed\nSuccessfully mounted abfss://processed@sleeperprojectdl.dfs.core.windows.net/ to /mnt/sleeperprojectdl/processed\nSuccessfully mounted abfss://presentation@sleeperprojectdl.dfs.core.windows.net/ to /mnt/sleeperprojectdl/presentation\n"
     ]
    }
   ],
   "source": [
    "# Mounting containers\n",
    "storage_account = 'sleeperprojectdl'\n",
    "containers_for_project = ['raw', 'processed', 'presentation']\n",
    "\n",
    "for container in containers_for_project:\n",
    "    mount_adls(storage_account, container)"
   ]
  },
  {
   "cell_type": "code",
   "execution_count": 0,
   "metadata": {
    "application/vnd.databricks.v1+cell": {
     "cellMetadata": {
      "byteLimit": 2048000,
      "rowLimit": 10000
     },
     "inputWidgets": {},
     "nuid": "6915ea77-cd0b-4a86-a8d5-dbd5f0e9d7aa",
     "showTitle": false,
     "title": ""
    }
   },
   "outputs": [
    {
     "output_type": "display_data",
     "data": {
      "text/html": [
       "<style scoped>\n",
       "  .table-result-container {\n",
       "    max-height: 300px;\n",
       "    overflow: auto;\n",
       "  }\n",
       "  table, th, td {\n",
       "    border: 1px solid black;\n",
       "    border-collapse: collapse;\n",
       "  }\n",
       "  th, td {\n",
       "    padding: 5px;\n",
       "  }\n",
       "  th {\n",
       "    text-align: left;\n",
       "  }\n",
       "</style><div class='table-result-container'><table class='table-result'><thead style='background-color: white'><tr><th>mountPoint</th><th>source</th><th>encryptionType</th></tr></thead><tbody><tr><td>/databricks-datasets</td><td>databricks-datasets</td><td></td></tr><tr><td>/mnt/sleeperprojectdl/presentation</td><td>abfss://presentation@sleeperprojectdl.dfs.core.windows.net/</td><td></td></tr><tr><td>/Volumes</td><td>UnityCatalogVolumes</td><td></td></tr><tr><td>/databricks/mlflow-tracking</td><td>databricks/mlflow-tracking</td><td></td></tr><tr><td>/databricks-results</td><td>databricks-results</td><td></td></tr><tr><td>/databricks/mlflow-registry</td><td>databricks/mlflow-registry</td><td></td></tr><tr><td>/mnt/sleeperprojectdl/processed</td><td>abfss://processed@sleeperprojectdl.dfs.core.windows.net/</td><td></td></tr><tr><td>/mnt/sleeperprojectdl/raw</td><td>abfss://raw@sleeperprojectdl.dfs.core.windows.net/</td><td></td></tr><tr><td>/Volume</td><td>DbfsReserved</td><td></td></tr><tr><td>/volumes</td><td>DbfsReserved</td><td></td></tr><tr><td>/</td><td>DatabricksRoot</td><td></td></tr><tr><td>/volume</td><td>DbfsReserved</td><td></td></tr></tbody></table></div>"
      ]
     },
     "metadata": {
      "application/vnd.databricks.v1+output": {
       "addedWidgets": {},
       "aggData": [],
       "aggError": "",
       "aggOverflow": false,
       "aggSchema": [],
       "aggSeriesLimitReached": false,
       "aggType": "",
       "arguments": {},
       "columnCustomDisplayInfos": {},
       "data": [
        [
         "/databricks-datasets",
         "databricks-datasets",
         ""
        ],
        [
         "/mnt/sleeperprojectdl/presentation",
         "abfss://presentation@sleeperprojectdl.dfs.core.windows.net/",
         ""
        ],
        [
         "/Volumes",
         "UnityCatalogVolumes",
         ""
        ],
        [
         "/databricks/mlflow-tracking",
         "databricks/mlflow-tracking",
         ""
        ],
        [
         "/databricks-results",
         "databricks-results",
         ""
        ],
        [
         "/databricks/mlflow-registry",
         "databricks/mlflow-registry",
         ""
        ],
        [
         "/mnt/sleeperprojectdl/processed",
         "abfss://processed@sleeperprojectdl.dfs.core.windows.net/",
         ""
        ],
        [
         "/mnt/sleeperprojectdl/raw",
         "abfss://raw@sleeperprojectdl.dfs.core.windows.net/",
         ""
        ],
        [
         "/Volume",
         "DbfsReserved",
         ""
        ],
        [
         "/volumes",
         "DbfsReserved",
         ""
        ],
        [
         "/",
         "DatabricksRoot",
         ""
        ],
        [
         "/volume",
         "DbfsReserved",
         ""
        ]
       ],
       "datasetInfos": [],
       "dbfsResultPath": null,
       "isJsonSchema": true,
       "metadata": {},
       "overflow": false,
       "plotOptions": {
        "customPlotOptions": {},
        "displayType": "table",
        "pivotAggregation": null,
        "pivotColumns": null,
        "xColumns": null,
        "yColumns": null
       },
       "removedWidgets": [],
       "schema": [
        {
         "metadata": "{}",
         "name": "mountPoint",
         "type": "\"string\""
        },
        {
         "metadata": "{}",
         "name": "source",
         "type": "\"string\""
        },
        {
         "metadata": "{}",
         "name": "encryptionType",
         "type": "\"string\""
        }
       ],
       "type": "table"
      }
     },
     "output_type": "display_data"
    }
   ],
   "source": [
    "display(dbutils.fs.mounts())"
   ]
  }
 ],
 "metadata": {
  "application/vnd.databricks.v1+notebook": {
   "dashboards": [],
   "environmentMetadata": {
    "base_environment": "",
    "client": "1"
   },
   "language": "python",
   "notebookMetadata": {
    "pythonIndentUnit": 4
   },
   "notebookName": "mount_adls_containers",
   "widgets": {}
  }
 },
 "nbformat": 4,
 "nbformat_minor": 0
}
