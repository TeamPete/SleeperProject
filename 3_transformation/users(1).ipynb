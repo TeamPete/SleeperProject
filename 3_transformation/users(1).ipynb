{
 "cells": [
  {
   "cell_type": "code",
   "execution_count": 0,
   "metadata": {
    "application/vnd.databricks.v1+cell": {
     "cellMetadata": {
      "byteLimit": 2048000,
      "rowLimit": 10000
     },
     "inputWidgets": {},
     "nuid": "3348c49c-5c27-45b3-bdd7-89ad94241f09",
     "showTitle": false,
     "title": ""
    }
   },
   "outputs": [],
   "source": [
    "users_df = spark.read.parquet(\"/mnt/sleeperprojectdl/processed/users\")"
   ]
  },
  {
   "cell_type": "code",
   "execution_count": 0,
   "metadata": {
    "application/vnd.databricks.v1+cell": {
     "cellMetadata": {
      "byteLimit": 2048000,
      "rowLimit": 10000
     },
     "inputWidgets": {},
     "nuid": "96fcb6fc-c577-4add-89cc-4dc66f3b45f5",
     "showTitle": false,
     "title": ""
    }
   },
   "outputs": [],
   "source": [
    "standings_df = spark.read.parquet(\"/mnt/sleeperprojectdl/processed/standings\")"
   ]
  },
  {
   "cell_type": "code",
   "execution_count": 0,
   "metadata": {
    "application/vnd.databricks.v1+cell": {
     "cellMetadata": {
      "byteLimit": 2048000,
      "rowLimit": 10000
     },
     "inputWidgets": {},
     "nuid": "bc22a0bf-2410-4812-aaa5-f04c41753243",
     "showTitle": false,
     "title": ""
    }
   },
   "outputs": [
    {
     "output_type": "display_data",
     "data": {
      "text/html": [
       "<style scoped>\n",
       "  .table-result-container {\n",
       "    max-height: 300px;\n",
       "    overflow: auto;\n",
       "  }\n",
       "  table, th, td {\n",
       "    border: 1px solid black;\n",
       "    border-collapse: collapse;\n",
       "  }\n",
       "  th, td {\n",
       "    padding: 5px;\n",
       "  }\n",
       "  th {\n",
       "    text-align: left;\n",
       "  }\n",
       "</style><div class='table-result-container'><table class='table-result'><thead style='background-color: white'><tr><th>user_id</th><th>team_name</th><th>display_name</th><th>season</th><th>ingestion_date</th></tr></thead><tbody><tr><td>450908656402165760</td><td>Kermit and Friends</td><td>ShawnDeWin</td><td>2022</td><td>2024-07-16T23:55:25.612Z</td></tr><tr><td>515068627679768576</td><td>Chicken Coop</td><td>merrickwong</td><td>2022</td><td>2024-07-16T23:55:25.612Z</td></tr><tr><td>808516037942288384</td><td>mrkoolguy</td><td>the_kool_guy14</td><td>2022</td><td>2024-07-16T23:55:25.612Z</td></tr><tr><td>833592897646501888</td><td>Trevors Toilets</td><td>mawo</td><td>2022</td><td>2024-07-16T23:55:25.612Z</td></tr><tr><td>833593227880824832</td><td>Anger Management Clinic</td><td>rth15</td><td>2022</td><td>2024-07-16T23:55:25.612Z</td></tr><tr><td>833594957678886912</td><td>RADISNEY</td><td>tjlopez</td><td>2022</td><td>2024-07-16T23:55:25.612Z</td></tr><tr><td>833595239125094400</td><td>Brown Fever</td><td>hwinsane</td><td>2022</td><td>2024-07-16T23:55:25.612Z</td></tr><tr><td>833595795143012352</td><td>2010 Chargers</td><td>VishnuArul</td><td>2022</td><td>2024-07-16T23:55:25.612Z</td></tr><tr><td>833614474954006528</td><td>RADISNEY</td><td>kongfutranda</td><td>2022</td><td>2024-07-16T23:55:25.612Z</td></tr><tr><td>839024284771942400</td><td>The Deon Experience</td><td>dli88129</td><td>2022</td><td>2024-07-16T23:55:25.612Z</td></tr><tr><td>450908656402165760</td><td>Kermit and Friends</td><td>ShawnDeWin</td><td>2023</td><td>2024-07-16T23:55:24.926Z</td></tr><tr><td>808516037942288384</td><td>mrkoolguy</td><td>the_kool_guy14</td><td>2023</td><td>2024-07-16T23:55:24.926Z</td></tr><tr><td>833592897646501888</td><td>Trevors Toilets</td><td>mawo</td><td>2023</td><td>2024-07-16T23:55:24.926Z</td></tr><tr><td>833593227880824832</td><td>Anti anti-semitic</td><td>rth15</td><td>2023</td><td>2024-07-16T23:55:24.926Z</td></tr><tr><td>833594957678886912</td><td>Jew’s Next?</td><td>tjlopez</td><td>2023</td><td>2024-07-16T23:55:24.926Z</td></tr><tr><td>833595239125094400</td><td>The Hwin Dynasty</td><td>hwinsane</td><td>2023</td><td>2024-07-16T23:55:24.926Z</td></tr><tr><td>833595795143012352</td><td>Fuck them Picks</td><td>VishnuArul</td><td>2023</td><td>2024-07-16T23:55:24.926Z</td></tr><tr><td>833614474954006528</td><td>RADISNEY</td><td>kongfutranda</td><td>2023</td><td>2024-07-16T23:55:24.926Z</td></tr><tr><td>839024284771942400</td><td>Robbers</td><td>dli88129</td><td>2023</td><td>2024-07-16T23:55:24.926Z</td></tr><tr><td>1020201111485001728</td><td>Trust the Process 💯🗿</td><td>evannnnn2</td><td>2023</td><td>2024-07-16T23:55:24.926Z</td></tr><tr><td>450908656402165760</td><td>Kermit and Friends</td><td>ShawnDeWin</td><td>2024</td><td>2024-07-16T23:55:24.147Z</td></tr><tr><td>808516037942288384</td><td>42069 Champions</td><td>the_kool_guy14</td><td>2024</td><td>2024-07-16T23:55:24.147Z</td></tr><tr><td>833592897646501888</td><td>The Roman Empire</td><td>mawo</td><td>2024</td><td>2024-07-16T23:55:24.147Z</td></tr><tr><td>833593227880824832</td><td>Stroud Boys</td><td>rth15</td><td>2024</td><td>2024-07-16T23:55:24.147Z</td></tr><tr><td>833594957678886912</td><td>Jew’s Next? (Its Peter)</td><td>tjlopez</td><td>2024</td><td>2024-07-16T23:55:24.147Z</td></tr><tr><td>833595239125094400</td><td>Tyler, Forgive Me</td><td>hwinsane</td><td>2024</td><td>2024-07-16T23:55:24.147Z</td></tr><tr><td>833595795143012352</td><td>Feeling Purdy Good</td><td>VishnuArul</td><td>2024</td><td>2024-07-16T23:55:24.147Z</td></tr><tr><td>833614474954006528</td><td>Run CMC</td><td>kongfutranda</td><td>2024</td><td>2024-07-16T23:55:24.147Z</td></tr><tr><td>839024284771942400</td><td></td><td>dli88129</td><td>2024</td><td>2024-07-16T23:55:24.147Z</td></tr><tr><td>1020201111485001728</td><td>Trust the Process 💯🗿</td><td>evannnnn2</td><td>2024</td><td>2024-07-16T23:55:24.147Z</td></tr></tbody></table></div>"
      ]
     },
     "metadata": {
      "application/vnd.databricks.v1+output": {
       "addedWidgets": {},
       "aggData": [],
       "aggError": "",
       "aggOverflow": false,
       "aggSchema": [],
       "aggSeriesLimitReached": false,
       "aggType": "",
       "arguments": {},
       "columnCustomDisplayInfos": {},
       "data": [
        [
         "450908656402165760",
         "Kermit and Friends",
         "ShawnDeWin",
         2022,
         "2024-07-16T23:55:25.612Z"
        ],
        [
         "515068627679768576",
         "Chicken Coop",
         "merrickwong",
         2022,
         "2024-07-16T23:55:25.612Z"
        ],
        [
         "808516037942288384",
         "mrkoolguy",
         "the_kool_guy14",
         2022,
         "2024-07-16T23:55:25.612Z"
        ],
        [
         "833592897646501888",
         "Trevors Toilets",
         "mawo",
         2022,
         "2024-07-16T23:55:25.612Z"
        ],
        [
         "833593227880824832",
         "Anger Management Clinic",
         "rth15",
         2022,
         "2024-07-16T23:55:25.612Z"
        ],
        [
         "833594957678886912",
         "RADISNEY",
         "tjlopez",
         2022,
         "2024-07-16T23:55:25.612Z"
        ],
        [
         "833595239125094400",
         "Brown Fever",
         "hwinsane",
         2022,
         "2024-07-16T23:55:25.612Z"
        ],
        [
         "833595795143012352",
         "2010 Chargers",
         "VishnuArul",
         2022,
         "2024-07-16T23:55:25.612Z"
        ],
        [
         "833614474954006528",
         "RADISNEY",
         "kongfutranda",
         2022,
         "2024-07-16T23:55:25.612Z"
        ],
        [
         "839024284771942400",
         "The Deon Experience",
         "dli88129",
         2022,
         "2024-07-16T23:55:25.612Z"
        ],
        [
         "450908656402165760",
         "Kermit and Friends",
         "ShawnDeWin",
         2023,
         "2024-07-16T23:55:24.926Z"
        ],
        [
         "808516037942288384",
         "mrkoolguy",
         "the_kool_guy14",
         2023,
         "2024-07-16T23:55:24.926Z"
        ],
        [
         "833592897646501888",
         "Trevors Toilets",
         "mawo",
         2023,
         "2024-07-16T23:55:24.926Z"
        ],
        [
         "833593227880824832",
         "Anti anti-semitic",
         "rth15",
         2023,
         "2024-07-16T23:55:24.926Z"
        ],
        [
         "833594957678886912",
         "Jew’s Next?",
         "tjlopez",
         2023,
         "2024-07-16T23:55:24.926Z"
        ],
        [
         "833595239125094400",
         "The Hwin Dynasty",
         "hwinsane",
         2023,
         "2024-07-16T23:55:24.926Z"
        ],
        [
         "833595795143012352",
         "Fuck them Picks",
         "VishnuArul",
         2023,
         "2024-07-16T23:55:24.926Z"
        ],
        [
         "833614474954006528",
         "RADISNEY",
         "kongfutranda",
         2023,
         "2024-07-16T23:55:24.926Z"
        ],
        [
         "839024284771942400",
         "Robbers",
         "dli88129",
         2023,
         "2024-07-16T23:55:24.926Z"
        ],
        [
         "1020201111485001728",
         "Trust the Process 💯🗿",
         "evannnnn2",
         2023,
         "2024-07-16T23:55:24.926Z"
        ],
        [
         "450908656402165760",
         "Kermit and Friends",
         "ShawnDeWin",
         2024,
         "2024-07-16T23:55:24.147Z"
        ],
        [
         "808516037942288384",
         "42069 Champions",
         "the_kool_guy14",
         2024,
         "2024-07-16T23:55:24.147Z"
        ],
        [
         "833592897646501888",
         "The Roman Empire",
         "mawo",
         2024,
         "2024-07-16T23:55:24.147Z"
        ],
        [
         "833593227880824832",
         "Stroud Boys",
         "rth15",
         2024,
         "2024-07-16T23:55:24.147Z"
        ],
        [
         "833594957678886912",
         "Jew’s Next? (Its Peter)",
         "tjlopez",
         2024,
         "2024-07-16T23:55:24.147Z"
        ],
        [
         "833595239125094400",
         "Tyler, Forgive Me",
         "hwinsane",
         2024,
         "2024-07-16T23:55:24.147Z"
        ],
        [
         "833595795143012352",
         "Feeling Purdy Good",
         "VishnuArul",
         2024,
         "2024-07-16T23:55:24.147Z"
        ],
        [
         "833614474954006528",
         "Run CMC",
         "kongfutranda",
         2024,
         "2024-07-16T23:55:24.147Z"
        ],
        [
         "839024284771942400",
         "",
         "dli88129",
         2024,
         "2024-07-16T23:55:24.147Z"
        ],
        [
         "1020201111485001728",
         "Trust the Process 💯🗿",
         "evannnnn2",
         2024,
         "2024-07-16T23:55:24.147Z"
        ]
       ],
       "datasetInfos": [],
       "dbfsResultPath": null,
       "isJsonSchema": true,
       "metadata": {},
       "overflow": false,
       "plotOptions": {
        "customPlotOptions": {},
        "displayType": "table",
        "pivotAggregation": null,
        "pivotColumns": null,
        "xColumns": null,
        "yColumns": null
       },
       "removedWidgets": [],
       "schema": [
        {
         "metadata": "{}",
         "name": "user_id",
         "type": "\"decimal(38,0)\""
        },
        {
         "metadata": "{}",
         "name": "team_name",
         "type": "\"string\""
        },
        {
         "metadata": "{}",
         "name": "display_name",
         "type": "\"string\""
        },
        {
         "metadata": "{}",
         "name": "season",
         "type": "\"integer\""
        },
        {
         "metadata": "{}",
         "name": "ingestion_date",
         "type": "\"timestamp\""
        }
       ],
       "type": "table"
      }
     },
     "output_type": "display_data"
    }
   ],
   "source": [
    "display(users_df)"
   ]
  },
  {
   "cell_type": "code",
   "execution_count": 0,
   "metadata": {
    "application/vnd.databricks.v1+cell": {
     "cellMetadata": {
      "byteLimit": 2048000,
      "rowLimit": 10000
     },
     "inputWidgets": {},
     "nuid": "fe10408b-5e66-4b60-84a9-da255b14c93e",
     "showTitle": false,
     "title": ""
    }
   },
   "outputs": [],
   "source": [
    "from pyspark.sql.functions import col, when, concat, lit"
   ]
  },
  {
   "cell_type": "code",
   "execution_count": 0,
   "metadata": {
    "application/vnd.databricks.v1+cell": {
     "cellMetadata": {
      "byteLimit": 2048000,
      "rowLimit": 10000
     },
     "inputWidgets": {},
     "nuid": "4e44dccd-1d52-438d-86db-c5ca245c1521",
     "showTitle": false,
     "title": ""
    }
   },
   "outputs": [],
   "source": [
    "users_df = users_df \\\n",
    "    .withColumn(\n",
    "        \"team_name\",\n",
    "        when(\n",
    "            col('team_name') == \"\", concat(lit('Team '), col('display_name'))\n",
    "            ) \\\n",
    "            .otherwise(col('team_name'))\n",
    "        ) \\\n",
    "    .withColumnRenamed(\"season\", \"users_df_season\")"
   ]
  },
  {
   "cell_type": "code",
   "execution_count": 0,
   "metadata": {
    "application/vnd.databricks.v1+cell": {
     "cellMetadata": {
      "byteLimit": 2048000,
      "rowLimit": 10000
     },
     "inputWidgets": {},
     "nuid": "1e76fe1d-2920-4167-b91e-9d7999db6500",
     "showTitle": false,
     "title": ""
    }
   },
   "outputs": [
    {
     "output_type": "display_data",
     "data": {
      "text/html": [
       "<style scoped>\n",
       "  .table-result-container {\n",
       "    max-height: 300px;\n",
       "    overflow: auto;\n",
       "  }\n",
       "  table, th, td {\n",
       "    border: 1px solid black;\n",
       "    border-collapse: collapse;\n",
       "  }\n",
       "  th, td {\n",
       "    padding: 5px;\n",
       "  }\n",
       "  th {\n",
       "    text-align: left;\n",
       "  }\n",
       "</style><div class='table-result-container'><table class='table-result'><thead style='background-color: white'><tr><th>user_id</th><th>roster_id</th><th>team_name</th><th>user_name</th><th>season</th></tr></thead><tbody><tr><td>808516037942288384</td><td>1</td><td>mrkoolguy</td><td>the_kool_guy14</td><td>2022</td></tr><tr><td>450908656402165760</td><td>2</td><td>Kermit and Friends</td><td>ShawnDeWin</td><td>2022</td></tr><tr><td>833592897646501888</td><td>3</td><td>Trevors Toilets</td><td>mawo</td><td>2022</td></tr><tr><td>833593227880824832</td><td>4</td><td>Anger Management Clinic</td><td>rth15</td><td>2022</td></tr><tr><td>833594957678886912</td><td>5</td><td>RADISNEY</td><td>tjlopez</td><td>2022</td></tr><tr><td>833595239125094400</td><td>6</td><td>Brown Fever</td><td>hwinsane</td><td>2022</td></tr><tr><td>833595795143012352</td><td>7</td><td>2010 Chargers</td><td>VishnuArul</td><td>2022</td></tr><tr><td>833614474954006528</td><td>8</td><td>RADISNEY</td><td>kongfutranda</td><td>2022</td></tr><tr><td>839024284771942400</td><td>9</td><td>The Deon Experience</td><td>dli88129</td><td>2022</td></tr><tr><td>515068627679768576</td><td>10</td><td>Chicken Coop</td><td>merrickwong</td><td>2022</td></tr><tr><td>808516037942288384</td><td>1</td><td>mrkoolguy</td><td>the_kool_guy14</td><td>2023</td></tr><tr><td>450908656402165760</td><td>2</td><td>Kermit and Friends</td><td>ShawnDeWin</td><td>2023</td></tr><tr><td>833592897646501888</td><td>3</td><td>Trevors Toilets</td><td>mawo</td><td>2023</td></tr><tr><td>833593227880824832</td><td>4</td><td>Anti anti-semitic</td><td>rth15</td><td>2023</td></tr><tr><td>833594957678886912</td><td>5</td><td>Jew’s Next?</td><td>tjlopez</td><td>2023</td></tr><tr><td>833595239125094400</td><td>6</td><td>The Hwin Dynasty</td><td>hwinsane</td><td>2023</td></tr><tr><td>833595795143012352</td><td>7</td><td>Fuck them Picks</td><td>VishnuArul</td><td>2023</td></tr><tr><td>833614474954006528</td><td>8</td><td>RADISNEY</td><td>kongfutranda</td><td>2023</td></tr><tr><td>839024284771942400</td><td>9</td><td>Robbers</td><td>dli88129</td><td>2023</td></tr><tr><td>1020201111485001728</td><td>10</td><td>Trust the Process 💯🗿</td><td>evannnnn2</td><td>2023</td></tr><tr><td>808516037942288384</td><td>1</td><td>42069 Champions</td><td>the_kool_guy14</td><td>2024</td></tr><tr><td>450908656402165760</td><td>2</td><td>Kermit and Friends</td><td>ShawnDeWin</td><td>2024</td></tr><tr><td>833592897646501888</td><td>3</td><td>The Roman Empire</td><td>mawo</td><td>2024</td></tr><tr><td>833593227880824832</td><td>4</td><td>Stroud Boys</td><td>rth15</td><td>2024</td></tr><tr><td>833594957678886912</td><td>5</td><td>Jew’s Next? (Its Peter)</td><td>tjlopez</td><td>2024</td></tr><tr><td>833595239125094400</td><td>6</td><td>Tyler, Forgive Me</td><td>hwinsane</td><td>2024</td></tr><tr><td>833595795143012352</td><td>7</td><td>Feeling Purdy Good</td><td>VishnuArul</td><td>2024</td></tr><tr><td>833614474954006528</td><td>8</td><td>Run CMC</td><td>kongfutranda</td><td>2024</td></tr><tr><td>839024284771942400</td><td>9</td><td>Team dli88129</td><td>dli88129</td><td>2024</td></tr><tr><td>1020201111485001728</td><td>10</td><td>Trust the Process 💯🗿</td><td>evannnnn2</td><td>2024</td></tr></tbody></table></div>"
      ]
     },
     "metadata": {
      "application/vnd.databricks.v1+output": {
       "addedWidgets": {},
       "aggData": [],
       "aggError": "",
       "aggOverflow": false,
       "aggSchema": [],
       "aggSeriesLimitReached": false,
       "aggType": "",
       "arguments": {},
       "columnCustomDisplayInfos": {},
       "data": [
        [
         "808516037942288384",
         1,
         "mrkoolguy",
         "the_kool_guy14",
         2022
        ],
        [
         "450908656402165760",
         2,
         "Kermit and Friends",
         "ShawnDeWin",
         2022
        ],
        [
         "833592897646501888",
         3,
         "Trevors Toilets",
         "mawo",
         2022
        ],
        [
         "833593227880824832",
         4,
         "Anger Management Clinic",
         "rth15",
         2022
        ],
        [
         "833594957678886912",
         5,
         "RADISNEY",
         "tjlopez",
         2022
        ],
        [
         "833595239125094400",
         6,
         "Brown Fever",
         "hwinsane",
         2022
        ],
        [
         "833595795143012352",
         7,
         "2010 Chargers",
         "VishnuArul",
         2022
        ],
        [
         "833614474954006528",
         8,
         "RADISNEY",
         "kongfutranda",
         2022
        ],
        [
         "839024284771942400",
         9,
         "The Deon Experience",
         "dli88129",
         2022
        ],
        [
         "515068627679768576",
         10,
         "Chicken Coop",
         "merrickwong",
         2022
        ],
        [
         "808516037942288384",
         1,
         "mrkoolguy",
         "the_kool_guy14",
         2023
        ],
        [
         "450908656402165760",
         2,
         "Kermit and Friends",
         "ShawnDeWin",
         2023
        ],
        [
         "833592897646501888",
         3,
         "Trevors Toilets",
         "mawo",
         2023
        ],
        [
         "833593227880824832",
         4,
         "Anti anti-semitic",
         "rth15",
         2023
        ],
        [
         "833594957678886912",
         5,
         "Jew’s Next?",
         "tjlopez",
         2023
        ],
        [
         "833595239125094400",
         6,
         "The Hwin Dynasty",
         "hwinsane",
         2023
        ],
        [
         "833595795143012352",
         7,
         "Fuck them Picks",
         "VishnuArul",
         2023
        ],
        [
         "833614474954006528",
         8,
         "RADISNEY",
         "kongfutranda",
         2023
        ],
        [
         "839024284771942400",
         9,
         "Robbers",
         "dli88129",
         2023
        ],
        [
         "1020201111485001728",
         10,
         "Trust the Process 💯🗿",
         "evannnnn2",
         2023
        ],
        [
         "808516037942288384",
         1,
         "42069 Champions",
         "the_kool_guy14",
         2024
        ],
        [
         "450908656402165760",
         2,
         "Kermit and Friends",
         "ShawnDeWin",
         2024
        ],
        [
         "833592897646501888",
         3,
         "The Roman Empire",
         "mawo",
         2024
        ],
        [
         "833593227880824832",
         4,
         "Stroud Boys",
         "rth15",
         2024
        ],
        [
         "833594957678886912",
         5,
         "Jew’s Next? (Its Peter)",
         "tjlopez",
         2024
        ],
        [
         "833595239125094400",
         6,
         "Tyler, Forgive Me",
         "hwinsane",
         2024
        ],
        [
         "833595795143012352",
         7,
         "Feeling Purdy Good",
         "VishnuArul",
         2024
        ],
        [
         "833614474954006528",
         8,
         "Run CMC",
         "kongfutranda",
         2024
        ],
        [
         "839024284771942400",
         9,
         "Team dli88129",
         "dli88129",
         2024
        ],
        [
         "1020201111485001728",
         10,
         "Trust the Process 💯🗿",
         "evannnnn2",
         2024
        ]
       ],
       "datasetInfos": [],
       "dbfsResultPath": null,
       "isJsonSchema": true,
       "metadata": {},
       "overflow": false,
       "plotOptions": {
        "customPlotOptions": {},
        "displayType": "table",
        "pivotAggregation": null,
        "pivotColumns": null,
        "xColumns": null,
        "yColumns": null
       },
       "removedWidgets": [],
       "schema": [
        {
         "metadata": "{}",
         "name": "user_id",
         "type": "\"decimal(38,0)\""
        },
        {
         "metadata": "{}",
         "name": "roster_id",
         "type": "\"integer\""
        },
        {
         "metadata": "{}",
         "name": "team_name",
         "type": "\"string\""
        },
        {
         "metadata": "{}",
         "name": "user_name",
         "type": "\"string\""
        },
        {
         "metadata": "{}",
         "name": "season",
         "type": "\"integer\""
        }
       ],
       "type": "table"
      }
     },
     "output_type": "display_data"
    }
   ],
   "source": [
    "from pyspark.sql.functions import col\n",
    "\n",
    "joined_df = users_df.join(\n",
    "    standings_df,\n",
    "    (users_df['user_id'] == standings_df['owner_id'])\n",
    "        & (users_df['users_df_season'] == standings_df['season']),\n",
    "    \"inner\"\n",
    ")\n",
    "\n",
    "joined_df_final = joined_df.select(\n",
    "        col(\"user_id\"),\n",
    "        col(\"roster_id\"),\n",
    "        col(\"team_name\"),\n",
    "        col(\"display_name\").alias(\"user_name\"),\n",
    "        col(\"users_df_season\")\n",
    "    ) \\\n",
    "    .withColumnRenamed(\"users_df_season\", \"season\") \\\n",
    "    .orderBy(\"season\", \"roster_id\")\n",
    "\n",
    "display(joined_df_final)"
   ]
  },
  {
   "cell_type": "code",
   "execution_count": 0,
   "metadata": {
    "application/vnd.databricks.v1+cell": {
     "cellMetadata": {
      "byteLimit": 2048000,
      "rowLimit": 10000
     },
     "inputWidgets": {},
     "nuid": "db03014b-90d5-4192-bd0b-4c05bc7f444c",
     "showTitle": false,
     "title": ""
    }
   },
   "outputs": [],
   "source": [
    "joined_df_final.write.mode('overwrite').parquet('/mnt/sleeperprojectdl/presentation/users')"
   ]
  }
 ],
 "metadata": {
  "application/vnd.databricks.v1+notebook": {
   "dashboards": [],
   "environmentMetadata": null,
   "language": "python",
   "notebookMetadata": {
    "pythonIndentUnit": 4
   },
   "notebookName": "users",
   "widgets": {}
  }
 },
 "nbformat": 4,
 "nbformat_minor": 0
}
