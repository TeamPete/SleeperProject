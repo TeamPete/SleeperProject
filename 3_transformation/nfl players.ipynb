{
 "cells": [
  {
   "cell_type": "code",
   "execution_count": 0,
   "metadata": {
    "application/vnd.databricks.v1+cell": {
     "cellMetadata": {
      "byteLimit": 2048000,
      "rowLimit": 10000
     },
     "inputWidgets": {},
     "nuid": "b0bc4ef5-fdb9-4b88-9e43-174a3df5b2d5",
     "showTitle": false,
     "title": ""
    }
   },
   "outputs": [],
   "source": [
    "nfl_players_df = spark.read.parquet(\"/mnt/sleeperprojectdl/processed/nfl_players\")"
   ]
  },
  {
   "cell_type": "code",
   "execution_count": 0,
   "metadata": {
    "application/vnd.databricks.v1+cell": {
     "cellMetadata": {
      "byteLimit": 2048000,
      "rowLimit": 10000
     },
     "inputWidgets": {},
     "nuid": "e487cae0-1549-4aff-9370-b0a3df059f27",
     "showTitle": false,
     "title": ""
    }
   },
   "outputs": [],
   "source": [
    "nfl_players_df.write.mode('overwrite').parquet(\"/mnt/sleeperprojectdl/presentation/nfl_players\")"
   ]
  }
 ],
 "metadata": {
  "application/vnd.databricks.v1+notebook": {
   "dashboards": [],
   "environmentMetadata": {
    "base_environment": "",
    "client": "1"
   },
   "language": "python",
   "notebookMetadata": {
    "pythonIndentUnit": 4
   },
   "notebookName": "nfl players",
   "widgets": {}
  }
 },
 "nbformat": 4,
 "nbformat_minor": 0
}
