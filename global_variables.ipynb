{
 "cells": [
  {
   "cell_type": "code",
   "execution_count": 0,
   "metadata": {
    "application/vnd.databricks.v1+cell": {
     "cellMetadata": {
      "byteLimit": 2048000,
      "rowLimit": 10000
     },
     "inputWidgets": {},
     "nuid": "e9e1749b-77c7-4367-bb00-a2ffd8f1615d",
     "showTitle": false,
     "title": ""
    }
   },
   "outputs": [],
   "source": [
    "import requests"
   ]
  },
  {
   "cell_type": "code",
   "execution_count": 0,
   "metadata": {
    "application/vnd.databricks.v1+cell": {
     "cellMetadata": {
      "byteLimit": 2048000,
      "rowLimit": 10000
     },
     "inputWidgets": {},
     "nuid": "8bb3fd4f-be31-469f-b3c2-57bc6e75dffe",
     "showTitle": false,
     "title": ""
    }
   },
   "outputs": [],
   "source": [
    "def generate_league_history(current_league_id: int) -> dict:\n",
    "    if not isinstance(current_league_id, int):\n",
    "        raise TypeError(\"current_league_id must be an integer.\")\n",
    "\n",
    "    league_id = current_league_id\n",
    "    league_history = {}\n",
    "\n",
    "    try:\n",
    "        # Make a HTTP request to sleeper API\n",
    "        response = requests.get(f\"https://api.sleeper.app/v1/league/{league_id}\")\n",
    "        \n",
    "        # Parse the JSON response; The .json() method returns a Python dictionary\n",
    "        data = response.json()\n",
    "        \n",
    "        # Add the current league_id to the dictionary\n",
    "        league_history[int(data['season'])] = int(data['league_id'])\n",
    "\n",
    "        # Keep adding league IDs to the dictionary until we reach the first season in the history\n",
    "        while data['previous_league_id'] is not None:\n",
    "\n",
    "            # Make another HTTP request to get previous season's information\n",
    "            league_id = data['previous_league_id']\n",
    "            response = requests.get(f\"https://api.sleeper.app/v1/league/{league_id}\")\n",
    "            data = response.json()\n",
    "\n",
    "            league_history[int(data['season'])] = int(data['league_id'])\n",
    "    \n",
    "    except Exception as e:\n",
    "        print(f\"An error occurred while generating league history: {e}\")\n",
    "        return {}\n",
    "    \n",
    "    return league_history"
   ]
  },
  {
   "cell_type": "code",
   "execution_count": 0,
   "metadata": {
    "application/vnd.databricks.v1+cell": {
     "cellMetadata": {
      "byteLimit": 2048000,
      "rowLimit": 10000
     },
     "inputWidgets": {},
     "nuid": "b4daff42-8c9e-4b40-a767-01ed59007e9e",
     "showTitle": false,
     "title": ""
    }
   },
   "outputs": [],
   "source": [
    "CURRENT_LEAGUE_ID = 1048353521130741760\n",
    "ALL_SEASONS = generate_league_history(CURRENT_LEAGUE_ID)"
   ]
  },
  {
   "cell_type": "code",
   "execution_count": 0,
   "metadata": {
    "application/vnd.databricks.v1+cell": {
     "cellMetadata": {
      "byteLimit": 2048000,
      "rowLimit": 10000
     },
     "inputWidgets": {},
     "nuid": "f571c2cf-315c-4570-aa39-1282cfceb0fe",
     "showTitle": false,
     "title": ""
    }
   },
   "outputs": [
    {
     "name": "stdout",
     "output_type": "stream",
     "text": [
      "{2024: 1048353521130741760, 2023: 917263521006592000, 2022: 833585949995814912}\n"
     ]
    }
   ],
   "source": [
    "print(ALL_SEASONS)"
   ]
  }
 ],
 "metadata": {
  "application/vnd.databricks.v1+notebook": {
   "dashboards": [],
   "environmentMetadata": null,
   "language": "python",
   "notebookMetadata": {
    "pythonIndentUnit": 4
   },
   "notebookName": "global_variables",
   "widgets": {}
  },
  "kernelspec": {
   "display_name": "Python 3 (ipykernel)",
   "language": "python",
   "name": "python3"
  },
  "language_info": {
   "codemirror_mode": {
    "name": "ipython",
    "version": 3
   },
   "file_extension": ".py",
   "mimetype": "text/x-python",
   "name": "python",
   "nbconvert_exporter": "python",
   "pygments_lexer": "ipython3",
   "version": "3.11.5"
  }
 },
 "nbformat": 4,
 "nbformat_minor": 1
}
