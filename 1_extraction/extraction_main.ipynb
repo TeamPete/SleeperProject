{
 "cells": [
  {
   "cell_type": "code",
   "execution_count": 0,
   "metadata": {
    "application/vnd.databricks.v1+cell": {
     "cellMetadata": {
      "byteLimit": 2048000,
      "rowLimit": 10000
     },
     "inputWidgets": {},
     "nuid": "65786cf6-18f0-4ead-9716-9c20d46fe88b",
     "showTitle": false,
     "title": ""
    }
   },
   "outputs": [],
   "source": [
    "%run \"./season_extractor_class\""
   ]
  },
  {
   "cell_type": "code",
   "execution_count": 0,
   "metadata": {
    "application/vnd.databricks.v1+cell": {
     "cellMetadata": {
      "byteLimit": 2048000,
      "rowLimit": 10000
     },
     "inputWidgets": {},
     "nuid": "d1c26612-65dc-4e39-b2bf-9125d1049956",
     "showTitle": false,
     "title": ""
    }
   },
   "outputs": [],
   "source": [
    "%run \"../set-up/global_variables\""
   ]
  },
  {
   "cell_type": "markdown",
   "metadata": {
    "application/vnd.databricks.v1+cell": {
     "cellMetadata": {},
     "inputWidgets": {},
     "nuid": "741dd635-4dd9-42af-a364-641f0bf51f39",
     "showTitle": false,
     "title": ""
    }
   },
   "source": [
    "\n",
    "#### Execute extractors"
   ]
  },
  {
   "cell_type": "code",
   "execution_count": 0,
   "metadata": {
    "application/vnd.databricks.v1+cell": {
     "cellMetadata": {
      "byteLimit": 2048000,
      "rowLimit": 10000
     },
     "inputWidgets": {},
     "nuid": "2ecb7e0c-5978-4d1a-be3b-b70140d748b8",
     "showTitle": false,
     "title": ""
    }
   },
   "outputs": [],
   "source": [
    "def ExtractSleeperAPI(instance: SeasonExtractor):\n",
    "    print(f\"Initiating extraction for the {instance.year} season...\")\n",
    "\n",
    "    instance.extract_league_info()\n",
    "    instance.extract_rosters()\n",
    "    instance.extract_users()\n",
    "    instance.extract_matchups()\n",
    "    instance.extract_transactions()\n",
    "    instance.extract_draft_picks()\n",
    "\n",
    "    print(f\"\\nExtraction for the {instance.year} season completed.\")"
   ]
  },
  {
   "cell_type": "code",
   "execution_count": 0,
   "metadata": {
    "application/vnd.databricks.v1+cell": {
     "cellMetadata": {
      "byteLimit": 2048000,
      "rowLimit": 10000
     },
     "inputWidgets": {},
     "nuid": "3ebf281a-9658-4744-8a01-fca0a7a0a2e1",
     "showTitle": false,
     "title": ""
    }
   },
   "outputs": [
    {
     "output_type": "stream",
     "name": "stdout",
     "output_type": "stream",
     "text": [
      "Initiating extraction for the 2024 season...\n\nExtracting 2024 league information...\nWrote 4571 bytes.\nSuccessfully wrote 2024 league information to /mnt/sleeperprojectdl/raw\n\nExtracting 2024 rosters...\nWrote 15927 bytes.\nSuccessfully wrote 2024 rosters to /mnt/sleeperprojectdl/raw\n\nExtracting 2024 user information...\nWrote 10118 bytes.\nSuccessfully wrote 2024 user information to /mnt/sleeperprojectdl/raw\n\nExtracting 2024 matchups...\n\nExtracting 2024 transactions...\n\nExtracting 2024 draft information...\nWrote 1733 bytes.\nSuccessfully wrote the 2024 draft information to /mnt/sleeperprojectdl/raw\n\nExtracting 2024 draft picks...\nWrote 19117 bytes.\nSuccessfully wrote the 2024 draft picks to /mnt/sleeperprojectdl/raw\n\nExtraction for the 2024 season completed.\nInitiating extraction for the 2023 season...\n\nExtracting 2023 league information...\nWrote 4660 bytes.\nSuccessfully wrote 2023 league information to /mnt/sleeperprojectdl/raw\n\nExtracting 2023 rosters...\nWrote 18438 bytes.\nSuccessfully wrote 2023 rosters to /mnt/sleeperprojectdl/raw\n\nExtracting 2023 user information...\nWrote 10098 bytes.\nSuccessfully wrote 2023 user information to /mnt/sleeperprojectdl/raw\n\nExtracting 2023 matchups...\nWrote 19466 bytes.\nSuccessfully wrote 2023 week 1 matchups to /mnt/sleeperprojectdl/raw\nWrote 19974 bytes.\nSuccessfully wrote 2023 week 2 matchups to /mnt/sleeperprojectdl/raw\nWrote 20218 bytes.\nSuccessfully wrote 2023 week 3 matchups to /mnt/sleeperprojectdl/raw\nWrote 20207 bytes.\nSuccessfully wrote 2023 week 4 matchups to /mnt/sleeperprojectdl/raw\nWrote 20399 bytes.\nSuccessfully wrote 2023 week 5 matchups to /mnt/sleeperprojectdl/raw\nWrote 20316 bytes.\nSuccessfully wrote 2023 week 6 matchups to /mnt/sleeperprojectdl/raw\nWrote 20299 bytes.\nSuccessfully wrote 2023 week 7 matchups to /mnt/sleeperprojectdl/raw\nWrote 20391 bytes.\nSuccessfully wrote 2023 week 8 matchups to /mnt/sleeperprojectdl/raw\nWrote 20468 bytes.\nSuccessfully wrote 2023 week 9 matchups to /mnt/sleeperprojectdl/raw\nWrote 20627 bytes.\nSuccessfully wrote 2023 week 10 matchups to /mnt/sleeperprojectdl/raw\nWrote 20754 bytes.\nSuccessfully wrote 2023 week 11 matchups to /mnt/sleeperprojectdl/raw\nWrote 20819 bytes.\nSuccessfully wrote 2023 week 12 matchups to /mnt/sleeperprojectdl/raw\nWrote 20739 bytes.\nSuccessfully wrote 2023 week 13 matchups to /mnt/sleeperprojectdl/raw\nWrote 20755 bytes.\nSuccessfully wrote 2023 week 14 matchups to /mnt/sleeperprojectdl/raw\nWrote 20685 bytes.\nSuccessfully wrote 2023 week 15 matchups to /mnt/sleeperprojectdl/raw\nWrote 20691 bytes.\nSuccessfully wrote 2023 week 16 matchups to /mnt/sleeperprojectdl/raw\nWrote 20643 bytes.\nSuccessfully wrote 2023 week 17 matchups to /mnt/sleeperprojectdl/raw\n\nExtracting 2023 transactions...\nWrote 76528 bytes.\nSuccessfully wrote 2023 week 1 transactions to /mnt/sleeperprojectdl/raw\nWrote 9748 bytes.\nSuccessfully wrote 2023 week 2 transactions to /mnt/sleeperprojectdl/raw\nWrote 4086 bytes.\nSuccessfully wrote 2023 week 3 transactions to /mnt/sleeperprojectdl/raw\nWrote 8860 bytes.\nSuccessfully wrote 2023 week 4 transactions to /mnt/sleeperprojectdl/raw\nWrote 5885 bytes.\nSuccessfully wrote 2023 week 5 transactions to /mnt/sleeperprojectdl/raw\nWrote 7064 bytes.\nSuccessfully wrote 2023 week 6 transactions to /mnt/sleeperprojectdl/raw\nWrote 15254 bytes.\nSuccessfully wrote 2023 week 7 transactions to /mnt/sleeperprojectdl/raw\nWrote 9380 bytes.\nSuccessfully wrote 2023 week 8 transactions to /mnt/sleeperprojectdl/raw\nWrote 4881 bytes.\nSuccessfully wrote 2023 week 9 transactions to /mnt/sleeperprojectdl/raw\nWrote 4006 bytes.\nSuccessfully wrote 2023 week 10 transactions to /mnt/sleeperprojectdl/raw\nWrote 6494 bytes.\nSuccessfully wrote 2023 week 11 transactions to /mnt/sleeperprojectdl/raw\nWrote 1777 bytes.\nSuccessfully wrote 2023 week 12 transactions to /mnt/sleeperprojectdl/raw\nWrote 5302 bytes.\nSuccessfully wrote 2023 week 13 transactions to /mnt/sleeperprojectdl/raw\nWrote 10103 bytes.\nSuccessfully wrote 2023 week 14 transactions to /mnt/sleeperprojectdl/raw\nWrote 6306 bytes.\nSuccessfully wrote 2023 week 15 transactions to /mnt/sleeperprojectdl/raw\nWrote 3866 bytes.\nSuccessfully wrote 2023 week 16 transactions to /mnt/sleeperprojectdl/raw\nWrote 1138 bytes.\nSuccessfully wrote 2023 week 17 transactions to /mnt/sleeperprojectdl/raw\n\nExtracting 2023 draft information...\nWrote 1957 bytes.\nSuccessfully wrote the 2023 draft information to /mnt/sleeperprojectdl/raw\n\nExtracting 2023 draft picks...\nWrote 19044 bytes.\nSuccessfully wrote the 2023 draft picks to /mnt/sleeperprojectdl/raw\n\nExtraction for the 2023 season completed.\nInitiating extraction for the 2022 season...\n\nExtracting 2022 league information...\nWrote 4690 bytes.\nSuccessfully wrote 2022 league information to /mnt/sleeperprojectdl/raw\n\nExtracting 2022 rosters...\nWrote 18287 bytes.\nSuccessfully wrote 2022 rosters to /mnt/sleeperprojectdl/raw\n\nExtracting 2022 user information...\nWrote 9192 bytes.\nSuccessfully wrote 2022 user information to /mnt/sleeperprojectdl/raw\n\nExtracting 2022 matchups...\nWrote 19863 bytes.\nSuccessfully wrote 2022 week 1 matchups to /mnt/sleeperprojectdl/raw\nWrote 19866 bytes.\nSuccessfully wrote 2022 week 2 matchups to /mnt/sleeperprojectdl/raw\nWrote 20018 bytes.\nSuccessfully wrote 2022 week 3 matchups to /mnt/sleeperprojectdl/raw\nWrote 20150 bytes.\nSuccessfully wrote 2022 week 4 matchups to /mnt/sleeperprojectdl/raw\nWrote 20360 bytes.\nSuccessfully wrote 2022 week 5 matchups to /mnt/sleeperprojectdl/raw\nWrote 20351 bytes.\nSuccessfully wrote 2022 week 6 matchups to /mnt/sleeperprojectdl/raw\nWrote 20485 bytes.\nSuccessfully wrote 2022 week 7 matchups to /mnt/sleeperprojectdl/raw\nWrote 20512 bytes.\nSuccessfully wrote 2022 week 8 matchups to /mnt/sleeperprojectdl/raw\nWrote 20474 bytes.\nSuccessfully wrote 2022 week 9 matchups to /mnt/sleeperprojectdl/raw\nWrote 20626 bytes.\nSuccessfully wrote 2022 week 10 matchups to /mnt/sleeperprojectdl/raw\nWrote 20623 bytes.\nSuccessfully wrote 2022 week 11 matchups to /mnt/sleeperprojectdl/raw\nWrote 20697 bytes.\nSuccessfully wrote 2022 week 12 matchups to /mnt/sleeperprojectdl/raw\nWrote 20666 bytes.\nSuccessfully wrote 2022 week 13 matchups to /mnt/sleeperprojectdl/raw\nWrote 20731 bytes.\nSuccessfully wrote 2022 week 14 matchups to /mnt/sleeperprojectdl/raw\nWrote 20742 bytes.\nSuccessfully wrote 2022 week 15 matchups to /mnt/sleeperprojectdl/raw\nWrote 20763 bytes.\nSuccessfully wrote 2022 week 16 matchups to /mnt/sleeperprojectdl/raw\nWrote 20538 bytes.\nSuccessfully wrote 2022 week 17 matchups to /mnt/sleeperprojectdl/raw\n\nExtracting 2022 transactions...\nWrote 47848 bytes.\nSuccessfully wrote 2022 week 1 transactions to /mnt/sleeperprojectdl/raw\nWrote 7060 bytes.\nSuccessfully wrote 2022 week 2 transactions to /mnt/sleeperprojectdl/raw\nWrote 6816 bytes.\nSuccessfully wrote 2022 week 3 transactions to /mnt/sleeperprojectdl/raw\nWrote 18419 bytes.\nSuccessfully wrote 2022 week 4 transactions to /mnt/sleeperprojectdl/raw\nWrote 16943 bytes.\nSuccessfully wrote 2022 week 5 transactions to /mnt/sleeperprojectdl/raw\nWrote 8852 bytes.\nSuccessfully wrote 2022 week 6 transactions to /mnt/sleeperprojectdl/raw\nWrote 8329 bytes.\nSuccessfully wrote 2022 week 7 transactions to /mnt/sleeperprojectdl/raw\nWrote 10839 bytes.\nSuccessfully wrote 2022 week 8 transactions to /mnt/sleeperprojectdl/raw\nWrote 4643 bytes.\nSuccessfully wrote 2022 week 9 transactions to /mnt/sleeperprojectdl/raw\nWrote 4877 bytes.\nSuccessfully wrote 2022 week 10 transactions to /mnt/sleeperprojectdl/raw\nWrote 6851 bytes.\nSuccessfully wrote 2022 week 11 transactions to /mnt/sleeperprojectdl/raw\nWrote 7430 bytes.\nSuccessfully wrote 2022 week 12 transactions to /mnt/sleeperprojectdl/raw\nWrote 9093 bytes.\nSuccessfully wrote 2022 week 13 transactions to /mnt/sleeperprojectdl/raw\nWrote 3362 bytes.\nSuccessfully wrote 2022 week 14 transactions to /mnt/sleeperprojectdl/raw\nWrote 4303 bytes.\nSuccessfully wrote 2022 week 15 transactions to /mnt/sleeperprojectdl/raw\nWrote 2471 bytes.\nSuccessfully wrote 2022 week 16 transactions to /mnt/sleeperprojectdl/raw\nWrote 3287 bytes.\nSuccessfully wrote 2022 week 17 transactions to /mnt/sleeperprojectdl/raw\n\nExtracting 2022 draft information...\nWrote 2025 bytes.\nSuccessfully wrote the 2022 draft information to /mnt/sleeperprojectdl/raw\n\nExtracting 2022 draft picks...\nWrote 206723 bytes.\nSuccessfully wrote the 2022 draft picks to /mnt/sleeperprojectdl/raw\n\nExtraction for the 2022 season completed.\n"
     ]
    }
   ],
   "source": [
    "for season, league_id in ALL_SEASONS.items():\n",
    "    instance = SeasonExtractor(league_id, season)\n",
    "    ExtractSleeperAPI(instance)"
   ]
  },
  {
   "cell_type": "code",
   "execution_count": 0,
   "metadata": {
    "application/vnd.databricks.v1+cell": {
     "cellMetadata": {
      "byteLimit": 2048000,
      "rowLimit": 10000
     },
     "inputWidgets": {},
     "nuid": "bc4cedf6-8b2e-41df-9048-99d3af293a5f",
     "showTitle": false,
     "title": ""
    }
   },
   "outputs": [
    {
     "output_type": "display_data",
     "data": {
      "text/html": [
       "<style scoped>\n",
       "  .table-result-container {\n",
       "    max-height: 300px;\n",
       "    overflow: auto;\n",
       "  }\n",
       "  table, th, td {\n",
       "    border: 1px solid black;\n",
       "    border-collapse: collapse;\n",
       "  }\n",
       "  th, td {\n",
       "    padding: 5px;\n",
       "  }\n",
       "  th {\n",
       "    text-align: left;\n",
       "  }\n",
       "</style><div class='table-result-container'><table class='table-result'><thead style='background-color: white'><tr><th>path</th><th>name</th><th>size</th><th>modificationTime</th></tr></thead><tbody><tr><td>dbfs:/mnt/sleeperprojectdl/raw/2022/</td><td>2022/</td><td>0</td><td>1719639640000</td></tr><tr><td>dbfs:/mnt/sleeperprojectdl/raw/2023/</td><td>2023/</td><td>0</td><td>1719639630000</td></tr><tr><td>dbfs:/mnt/sleeperprojectdl/raw/2024/</td><td>2024/</td><td>0</td><td>1719638841000</td></tr><tr><td>dbfs:/mnt/sleeperprojectdl/raw/nfl_players.json</td><td>nfl_players.json</td><td>16984747</td><td>1719637760000</td></tr></tbody></table></div>"
      ]
     },
     "metadata": {
      "application/vnd.databricks.v1+output": {
       "addedWidgets": {},
       "aggData": [],
       "aggError": "",
       "aggOverflow": false,
       "aggSchema": [],
       "aggSeriesLimitReached": false,
       "aggType": "",
       "arguments": {},
       "columnCustomDisplayInfos": {},
       "data": [
        [
         "dbfs:/mnt/sleeperprojectdl/raw/2022/",
         "2022/",
         0,
         1719639640000
        ],
        [
         "dbfs:/mnt/sleeperprojectdl/raw/2023/",
         "2023/",
         0,
         1719639630000
        ],
        [
         "dbfs:/mnt/sleeperprojectdl/raw/2024/",
         "2024/",
         0,
         1719638841000
        ],
        [
         "dbfs:/mnt/sleeperprojectdl/raw/nfl_players.json",
         "nfl_players.json",
         16984747,
         1719637760000
        ]
       ],
       "datasetInfos": [],
       "dbfsResultPath": null,
       "isJsonSchema": true,
       "metadata": {
        "isDbfsCommandResult": false
       },
       "overflow": false,
       "plotOptions": {
        "customPlotOptions": {},
        "displayType": "table",
        "pivotAggregation": null,
        "pivotColumns": null,
        "xColumns": null,
        "yColumns": null
       },
       "removedWidgets": [],
       "schema": [
        {
         "metadata": "{}",
         "name": "path",
         "type": "\"string\""
        },
        {
         "metadata": "{}",
         "name": "name",
         "type": "\"string\""
        },
        {
         "metadata": "{}",
         "name": "size",
         "type": "\"long\""
        },
        {
         "metadata": "{}",
         "name": "modificationTime",
         "type": "\"long\""
        }
       ],
       "type": "table"
      }
     },
     "output_type": "display_data"
    }
   ],
   "source": [
    "%fs\n",
    "ls /mnt/sleeperprojectdl/raw"
   ]
  }
 ],
 "metadata": {
  "application/vnd.databricks.v1+notebook": {
   "dashboards": [],
   "environmentMetadata": {
    "base_environment": "",
    "client": "1"
   },
   "language": "python",
   "notebookMetadata": {
    "mostRecentlyExecutedCommandWithImplicitDF": {
     "commandId": 170133570896271,
     "dataframes": [
      "_sqldf"
     ]
    },
    "pythonIndentUnit": 4
   },
   "notebookName": "extraction_main",
   "widgets": {}
  }
 },
 "nbformat": 4,
 "nbformat_minor": 0
}
